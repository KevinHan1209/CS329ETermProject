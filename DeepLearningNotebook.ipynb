{
 "cells": [
  {
   "cell_type": "code",
   "execution_count": 1,
   "metadata": {},
   "outputs": [],
   "source": [
    "import numpy as np\n",
    "import torch as th\n",
    "import torch.nn.functional as F\n",
    "import torch.optim as optim\n",
    "import torch.nn as nn\n",
    "import pandas as pd"
   ]
  },
  {
   "cell_type": "code",
   "execution_count": 2,
   "metadata": {},
   "outputs": [
    {
     "name": "stdout",
     "output_type": "stream",
     "text": [
      "Index(['koi_disposition', 'koi_fpflag_nt', 'koi_fpflag_ss', 'koi_fpflag_co',\n",
      "       'koi_fpflag_ec', 'koi_period', 'koi_time0bk', 'koi_time0', 'koi_impact',\n",
      "       'koi_duration', 'koi_depth', 'koi_ror', 'koi_srho', 'koi_prad',\n",
      "       'koi_sma', 'koi_incl', 'koi_teq', 'koi_insol', 'koi_dor',\n",
      "       'koi_max_sngle_ev', 'koi_max_mult_ev', 'koi_model_snr', 'koi_count',\n",
      "       'koi_num_transits', 'koi_tce_plnt_num', 'koi_steff', 'koi_slogg',\n",
      "       'koi_srad', 'koi_smass', 'ra', 'dec', 'koi_kepmag', 'koi_gmag',\n",
      "       'koi_rmag', 'koi_imag', 'koi_zmag', 'koi_jmag', 'koi_hmag', 'koi_kmag'],\n",
      "      dtype='object')\n"
     ]
    }
   ],
   "source": [
    "df = pd.read_csv('koi_data.csv')\n",
    "print(df.columns)"
   ]
  },
  {
   "cell_type": "code",
   "execution_count": 3,
   "metadata": {},
   "outputs": [
    {
     "name": "stdout",
     "output_type": "stream",
     "text": [
      "Training set size: 6228\n",
      "Validation set size: 778\n",
      "Testing set size: 779\n"
     ]
    }
   ],
   "source": [
    "from sklearn.model_selection import train_test_split\n",
    "\n",
    "# Separate predictors and label\n",
    "X = df.drop(columns=['koi_disposition'])\n",
    "y = pd.Series(pd.Categorical(df['koi_disposition'], \n",
    "                           categories=['FALSE POSITIVE', 'CANDIDATE', 'CONFIRMED']).codes)\n",
    "\n",
    "\n",
    "# Split into training and testing sets (80% train, 20% test)\n",
    "X_train, X_temp, y_train, y_temp = train_test_split(X, y, test_size=0.2, random_state=42)\n",
    "\n",
    "# Further split the testing set into validation and testing sets (50% of 20% each)\n",
    "X_val, X_test, y_val, y_test = train_test_split(X_temp, y_temp, test_size=0.5, random_state=42)\n",
    "\n",
    "print(f\"Training set size: {X_train.shape[0]}\")\n",
    "print(f\"Validation set size: {X_val.shape[0]}\")\n",
    "print(f\"Testing set size: {X_test.shape[0]}\")"
   ]
  },
  {
   "cell_type": "code",
   "execution_count": 4,
   "metadata": {},
   "outputs": [],
   "source": [
    "from torch.utils.data import DataLoader, TensorDataset\n",
    "\n",
    "# Convert pandas DataFrames/Series to PyTorch tensors\n",
    "X_train_tensor = th.tensor(X_train.values, dtype=th.float32)\n",
    "y_train_tensor = th.tensor(y_train.values, dtype=th.long)\n",
    "X_val_tensor = th.tensor(X_val.values, dtype=th.float32)\n",
    "y_val_tensor = th.tensor(y_val.values, dtype=th.long)\n",
    "X_test_tensor = th.tensor(X_test.values, dtype=th.float32)\n",
    "y_test_tensor = th.tensor(y_test.values, dtype=th.long)\n",
    "\n",
    "# Create TensorDatasets\n",
    "train_dataset = TensorDataset(X_train_tensor, y_train_tensor)\n",
    "val_dataset = TensorDataset(X_val_tensor, y_val_tensor)\n",
    "test_dataset = TensorDataset(X_test_tensor, y_test_tensor)\n",
    "\n",
    "# Create DataLoaders\n",
    "train_loader = DataLoader(train_dataset, batch_size=32, shuffle=True)\n",
    "val_loader = DataLoader(val_dataset, batch_size=32, shuffle=False)\n",
    "test_loader = DataLoader(test_dataset, batch_size=32, shuffle=False)\n"
   ]
  },
  {
   "cell_type": "code",
   "execution_count": 11,
   "metadata": {},
   "outputs": [
    {
     "name": "stdout",
     "output_type": "stream",
     "text": [
      "Epoch 1/75\n",
      "Train Loss: 8215.9935\n",
      "Validation Loss: 273.6428\n",
      "Validation Accuracy: 45.37%\n",
      "Epoch 2/75\n",
      "Train Loss: 759.1697\n",
      "Validation Loss: 18.3755\n",
      "Validation Accuracy: 45.37%\n",
      "Epoch 3/75\n",
      "Train Loss: 192.3448\n",
      "Validation Loss: 9.7268\n",
      "Validation Accuracy: 45.37%\n",
      "Epoch 4/75\n",
      "Train Loss: 70.8151\n",
      "Validation Loss: 2.7661\n",
      "Validation Accuracy: 44.60%\n",
      "Epoch 5/75\n",
      "Train Loss: 34.6942\n",
      "Validation Loss: 1.4889\n",
      "Validation Accuracy: 45.50%\n",
      "Epoch 6/75\n",
      "Train Loss: 19.4628\n",
      "Validation Loss: 1.3184\n",
      "Validation Accuracy: 45.37%\n",
      "Epoch 7/75\n",
      "Train Loss: 11.8334\n",
      "Validation Loss: 1.0772\n",
      "Validation Accuracy: 45.50%\n",
      "Epoch 8/75\n",
      "Train Loss: 7.6192\n",
      "Validation Loss: 1.0394\n",
      "Validation Accuracy: 45.50%\n",
      "Epoch 9/75\n",
      "Train Loss: 4.6630\n",
      "Validation Loss: 1.0318\n",
      "Validation Accuracy: 45.50%\n",
      "Epoch 10/75\n",
      "Train Loss: 3.1214\n",
      "Validation Loss: 1.0391\n",
      "Validation Accuracy: 45.50%\n",
      "Epoch 11/75\n",
      "Train Loss: 1.8430\n",
      "Validation Loss: 1.0425\n",
      "Validation Accuracy: 45.50%\n",
      "Epoch 12/75\n",
      "Train Loss: 1.1936\n",
      "Validation Loss: 1.0466\n",
      "Validation Accuracy: 45.50%\n",
      "Epoch 13/75\n",
      "Train Loss: 1.0458\n",
      "Validation Loss: 1.0460\n",
      "Validation Accuracy: 45.50%\n",
      "Epoch 14/75\n",
      "Train Loss: 1.1555\n",
      "Validation Loss: 1.0464\n",
      "Validation Accuracy: 45.50%\n",
      "Epoch 15/75\n",
      "Train Loss: 1.0800\n",
      "Validation Loss: 1.0473\n",
      "Validation Accuracy: 45.50%\n",
      "Epoch 16/75\n",
      "Train Loss: 1.0560\n",
      "Validation Loss: 1.0460\n",
      "Validation Accuracy: 45.50%\n",
      "Epoch 17/75\n",
      "Train Loss: 1.0622\n",
      "Validation Loss: 1.0477\n",
      "Validation Accuracy: 45.50%\n",
      "Epoch 18/75\n",
      "Train Loss: 1.0233\n",
      "Validation Loss: 1.0479\n",
      "Validation Accuracy: 45.50%\n",
      "Epoch 19/75\n",
      "Train Loss: 1.0243\n",
      "Validation Loss: 1.0480\n",
      "Validation Accuracy: 45.50%\n",
      "Epoch 20/75\n",
      "Train Loss: 1.0049\n",
      "Validation Loss: 1.0482\n",
      "Validation Accuracy: 45.50%\n",
      "Epoch 21/75\n",
      "Train Loss: 1.0064\n",
      "Validation Loss: 1.0473\n",
      "Validation Accuracy: 45.50%\n",
      "Epoch 22/75\n",
      "Train Loss: 1.0211\n",
      "Validation Loss: 1.0469\n",
      "Validation Accuracy: 45.50%\n",
      "Epoch 23/75\n",
      "Train Loss: 1.0100\n",
      "Validation Loss: 1.0477\n",
      "Validation Accuracy: 45.50%\n",
      "Epoch 24/75\n",
      "Train Loss: 1.0014\n",
      "Validation Loss: 1.0471\n",
      "Validation Accuracy: 45.50%\n",
      "Epoch 25/75\n",
      "Train Loss: 1.0023\n",
      "Validation Loss: 1.0468\n",
      "Validation Accuracy: 45.50%\n",
      "Epoch 26/75\n",
      "Train Loss: 1.0065\n",
      "Validation Loss: 1.0478\n",
      "Validation Accuracy: 45.50%\n",
      "Epoch 27/75\n",
      "Train Loss: 1.0160\n",
      "Validation Loss: 1.0464\n",
      "Validation Accuracy: 45.50%\n",
      "Epoch 28/75\n",
      "Train Loss: 1.0135\n",
      "Validation Loss: 1.0418\n",
      "Validation Accuracy: 45.50%\n",
      "Epoch 29/75\n",
      "Train Loss: 1.0292\n",
      "Validation Loss: 1.0463\n",
      "Validation Accuracy: 45.50%\n",
      "Epoch 30/75\n",
      "Train Loss: 1.0041\n",
      "Validation Loss: 1.0472\n",
      "Validation Accuracy: 45.50%\n",
      "Epoch 31/75\n",
      "Train Loss: 1.0434\n",
      "Validation Loss: 1.0484\n",
      "Validation Accuracy: 45.50%\n",
      "Epoch 32/75\n",
      "Train Loss: 1.0179\n",
      "Validation Loss: 1.0484\n",
      "Validation Accuracy: 45.50%\n",
      "Epoch 33/75\n",
      "Train Loss: 1.0165\n",
      "Validation Loss: 1.0487\n",
      "Validation Accuracy: 45.50%\n",
      "Epoch 34/75\n",
      "Train Loss: 1.0145\n",
      "Validation Loss: 1.0486\n",
      "Validation Accuracy: 45.50%\n",
      "Epoch 35/75\n",
      "Train Loss: 1.0121\n",
      "Validation Loss: 1.0478\n",
      "Validation Accuracy: 45.50%\n",
      "Epoch 36/75\n",
      "Train Loss: 1.0137\n",
      "Validation Loss: 1.0480\n",
      "Validation Accuracy: 45.50%\n",
      "Epoch 37/75\n",
      "Train Loss: 1.0120\n",
      "Validation Loss: 1.0483\n",
      "Validation Accuracy: 45.50%\n",
      "Epoch 38/75\n",
      "Train Loss: 1.0125\n",
      "Validation Loss: 1.0477\n",
      "Validation Accuracy: 45.50%\n",
      "Epoch 39/75\n",
      "Train Loss: 1.0100\n",
      "Validation Loss: 1.0400\n",
      "Validation Accuracy: 45.50%\n",
      "Epoch 40/75\n",
      "Train Loss: 1.0055\n",
      "Validation Loss: 1.0480\n",
      "Validation Accuracy: 45.50%\n",
      "Epoch 41/75\n",
      "Train Loss: 1.0194\n",
      "Validation Loss: 1.0484\n",
      "Validation Accuracy: 45.50%\n",
      "Epoch 42/75\n",
      "Train Loss: 1.0164\n",
      "Validation Loss: 1.0487\n",
      "Validation Accuracy: 45.50%\n",
      "Epoch 43/75\n",
      "Train Loss: 1.0171\n",
      "Validation Loss: 1.0486\n",
      "Validation Accuracy: 45.50%\n",
      "Epoch 44/75\n",
      "Train Loss: 1.0264\n",
      "Validation Loss: 1.0486\n",
      "Validation Accuracy: 45.50%\n",
      "Epoch 45/75\n",
      "Train Loss: 1.0206\n",
      "Validation Loss: 1.0485\n",
      "Validation Accuracy: 45.50%\n",
      "Epoch 46/75\n",
      "Train Loss: 1.0212\n",
      "Validation Loss: 1.0489\n",
      "Validation Accuracy: 45.50%\n",
      "Epoch 47/75\n",
      "Train Loss: 1.0190\n",
      "Validation Loss: 1.0490\n",
      "Validation Accuracy: 45.50%\n",
      "Epoch 48/75\n",
      "Train Loss: 1.0142\n",
      "Validation Loss: 1.0488\n",
      "Validation Accuracy: 45.50%\n",
      "Epoch 49/75\n",
      "Train Loss: 1.0205\n",
      "Validation Loss: 1.0485\n",
      "Validation Accuracy: 45.50%\n",
      "Epoch 50/75\n",
      "Train Loss: 1.0358\n",
      "Validation Loss: 1.0497\n",
      "Validation Accuracy: 45.50%\n",
      "Epoch 51/75\n",
      "Train Loss: 1.0223\n",
      "Validation Loss: 1.0490\n",
      "Validation Accuracy: 45.50%\n",
      "Epoch 52/75\n",
      "Train Loss: 1.0217\n",
      "Validation Loss: 1.0492\n",
      "Validation Accuracy: 45.50%\n",
      "Epoch 53/75\n",
      "Train Loss: 1.0170\n",
      "Validation Loss: 1.0473\n",
      "Validation Accuracy: 45.50%\n",
      "Epoch 54/75\n",
      "Train Loss: 1.0755\n",
      "Validation Loss: 1.0434\n",
      "Validation Accuracy: 45.50%\n",
      "Epoch 55/75\n",
      "Train Loss: 1.0158\n",
      "Validation Loss: 1.0318\n",
      "Validation Accuracy: 45.50%\n",
      "Epoch 56/75\n",
      "Train Loss: 1.0130\n",
      "Validation Loss: 1.0287\n",
      "Validation Accuracy: 45.50%\n",
      "Epoch 57/75\n",
      "Train Loss: 1.0089\n",
      "Validation Loss: 1.0258\n",
      "Validation Accuracy: 45.50%\n",
      "Epoch 58/75\n",
      "Train Loss: 1.0092\n",
      "Validation Loss: 1.0238\n",
      "Validation Accuracy: 45.50%\n",
      "Epoch 59/75\n",
      "Train Loss: 1.0074\n",
      "Validation Loss: 1.0237\n",
      "Validation Accuracy: 45.50%\n",
      "Epoch 60/75\n",
      "Train Loss: 1.0075\n",
      "Validation Loss: 1.0238\n",
      "Validation Accuracy: 45.50%\n",
      "Epoch 61/75\n",
      "Train Loss: 1.0080\n",
      "Validation Loss: 1.0192\n",
      "Validation Accuracy: 45.50%\n",
      "Epoch 62/75\n",
      "Train Loss: 1.0187\n",
      "Validation Loss: 1.0186\n",
      "Validation Accuracy: 45.50%\n",
      "Epoch 63/75\n",
      "Train Loss: 1.0100\n",
      "Validation Loss: 1.0189\n",
      "Validation Accuracy: 45.50%\n",
      "Epoch 64/75\n",
      "Train Loss: 0.9998\n",
      "Validation Loss: 1.0017\n",
      "Validation Accuracy: 45.50%\n",
      "Epoch 65/75\n",
      "Train Loss: 1.0172\n",
      "Validation Loss: 1.0378\n",
      "Validation Accuracy: 45.50%\n",
      "Epoch 66/75\n",
      "Train Loss: 1.0166\n",
      "Validation Loss: 1.0382\n",
      "Validation Accuracy: 45.50%\n",
      "Epoch 67/75\n",
      "Train Loss: 1.0179\n",
      "Validation Loss: 1.0375\n",
      "Validation Accuracy: 45.50%\n",
      "Epoch 68/75\n",
      "Train Loss: 1.0232\n",
      "Validation Loss: 1.0375\n",
      "Validation Accuracy: 45.50%\n",
      "Epoch 69/75\n",
      "Train Loss: 1.0159\n",
      "Validation Loss: 1.0376\n",
      "Validation Accuracy: 45.50%\n",
      "Epoch 70/75\n",
      "Train Loss: 1.0148\n",
      "Validation Loss: 1.0375\n",
      "Validation Accuracy: 45.50%\n",
      "Epoch 71/75\n",
      "Train Loss: 1.0197\n",
      "Validation Loss: 1.0375\n",
      "Validation Accuracy: 45.50%\n",
      "Epoch 72/75\n",
      "Train Loss: 1.0239\n",
      "Validation Loss: 1.0159\n",
      "Validation Accuracy: 45.50%\n",
      "Epoch 73/75\n",
      "Train Loss: 1.0137\n",
      "Validation Loss: 0.9970\n",
      "Validation Accuracy: 45.50%\n",
      "Epoch 74/75\n",
      "Train Loss: 1.1146\n",
      "Validation Loss: 1.0368\n",
      "Validation Accuracy: 45.50%\n",
      "Epoch 75/75\n",
      "Train Loss: 1.0159\n",
      "Validation Loss: 1.0369\n",
      "Validation Accuracy: 45.50%\n"
     ]
    },
    {
     "data": {
      "image/png": "[encoded data removed]",
      "text/plain": [
       "<Figure size 1000x600 with 1 Axes>"
      ]
     },
     "metadata": {},
     "output_type": "display_data"
    },
    {
     "name": "stdout",
     "output_type": "stream",
     "text": [
      "Test Loss: 1.0040\n",
      "Test Accuracy: 50.32%\n"
     ]
    },
    {
     "data": {
      "application/vnd.plotly.v1+json": {
       "config": {
        "plotlyServerURL": "https://plot.ly"
       },
       "data": [
        {
         "mode": "lines+markers",
         "name": "Training Loss",
         "type": "scatter",
         "x": [
          1,
          2,
          3,
          4,
          5,
          6,
          7,
          8,
          9,
          10,
          11,
          12,
          13,
          14,
          15,
          16,
          17,
          18,
          19,
          20,
          21,
          22,
          23,
          24,
          25,
          26,
          27,
          28,
          29,
          30,
          31,
          32,
          33,
          34,
          35,
          36,
          37,
          38,
          39,
          40,
          41,
          42,
          43,
          44,
          45,
          46,
          47,
          48,
          49,
          50,
          51,
          52,
          53,
          54,
          55,
          56,
          57,
          58,
          59,
          60,
          61,
          62,
          63,
          64,
          65,
          66,
          67,
          68,
          69,
          70,
          71,
          72,
          73,
          74,
          75
         ],
         "y": {
          "bdata": "sl7NxBUHIkC0/5kRZocaQLJfYUODCRVAuQWpdlAKEUBawS4PYV8MQFaY5CR/vwdAAIciR3PEA0CpwIcX0T4AQJ73C+9sovg//FSbNmU28j+9Ozg/t5DjP4Z/9YwYpsY/GOUzvMntpj+W30om14DCP2AQLdmDsbM/iBvi+3fiqz/0Ykv1BuGuPyXzyhBri5c/YLvAhTiYmD9RVMLlWd5zP/Icc+PhP3o/FfxhmSlolT+FFJ9bh2qEP9XCsUTpv1Y/3+eZHjF7Yj8c8+lR9116PxFLQS70TJA/dwTvFENhiz+XV9IVL3ydPwS0yfHNk3A/AJhxlaS8pT9ri9FMdC2SP3L4j6ciy5A/SOLpO0RsjT87gfVvj7CIP/M/hzzy8Is/LxyC/RJziD/DTVlJg2SJPx6REniTYYQ/y8cWyPyUdj9QNJa8eq2TPyN68e4fpJA/KYJTzC9hkT9OkbKp7LKaP0KzPgCM4JQ/Qx/W87OElT++VPPzpU2TP/h0c+xP+Iw/jKqte7rTlD/Og8WKOgKiP5i0uUVEkZY/UJAuj2n5lT/Lkbw9Q0mRP4F3PDnuo7I/r3yyeYALkD+5kttRIXSKP7RS8nEOPII/ILu3xNm1gj/wK1HTfAJ+P8ta+paumn4/5GE6p/tagD/vnIdMQwOTPwJ89uYuY4Q/e3XoPlCzJr9s8oPj03GRP/KG+XVj4JA/M0mxt94fkj96dEB3HoCXP+e4NvM1IpA/VrQsUc4njj90mdx6dvuTP03omdqqN5g/x9ahLzPjiz+7Wa/5Fcm7P61yG5o2LpA/",
          "dtype": "f8"
         }
        },
        {
         "mode": "lines+markers",
         "name": "Validation Loss",
         "type": "scatter",
         "x": [
          1,
          2,
          3,
          4,
          5,
          6,
          7,
          8,
          9,
          10,
          11,
          12,
          13,
          14,
          15,
          16,
          17,
          18,
          19,
          20,
          21,
          22,
          23,
          24,
          25,
          26,
          27,
          28,
          29,
          30,
          31,
          32,
          33,
          34,
          35,
          36,
          37,
          38,
          39,
          40,
          41,
          42,
          43,
          44,
          45,
          46,
          47,
          48,
          49,
          50,
          51,
          52,
          53,
          54,
          55,
          56,
          57,
          58,
          59,
          60,
          61,
          62,
          63,
          64,
          65,
          66,
          67,
          68,
          69,
          70,
          71,
          72,
          73,
          74,
          75
         ],
         "y": {
          "bdata": "W+yY54FyFkDRB71Vw0kHQAVX3G30MgJA6j34f3xH8D9MM8d9HnnZPyWcpk2ssNE/NzbZOlAHsz9g3hYb3cujP76VlUMHBaA/vaf6fdmdoz8pYgprcU+lP4HG1A0bU6c/u521Sp0Gpz8WK975XjSnP+VgeDNxpac/vBUTYdcDpz86aQKbcdynP5ldgbD/9qc/ASAF9cEGqD+vIr97PxyoP+dE9laJq6c/570LImt4pz9LYIxTCuGnP2YK96A6kKc/pieEOSpppz/chp8qCe2nP/zfnQB8Pac/CHk9DuX5pD9OMxyD/S+nP47uen1en6c/GpdOkWA0qD8iuIEUizioP0YEBHe2Vag/uhl2LCJSqD/7N2zLjOanP0ZG3+YzBqg/tjWBWccjqD8eKQ0OFd+nP5SEQ4R1EqQ/5rziEOAEqD8XbUJLBi6oP2rNTqyBW6g/eCaMyYFQqD+zuBLOK0aoP11UdyhSRKg/zW+m5t53qD/dtU2CA3ioP7cPgf0SYqg/7F56MJk6qD89ozYR2dioP3m89qcmf6g/MC6kRl2YqD9rVIXMc6unP9mDs4DCu6U/O2Iwr2oLoD+cg6rMzPKcP7BVrFEYH5o/tC00D1oYmD8Obg0M3AeYP7pn1iyYEpg/hU3v7+Vukz8V0mNC5NWSP9HkOSL4L5M/mLQr4xMIXD/Am3fjV/6iPwxEqsFUNKM/yJu4/DfWoj8DTaONwNqiP5yvLvux6KI/3gM8zujZoj8itUJRg9WiP+9+qWcTL5A/wSU4krv7aL/HWP5wx3uiPz39Qgv/iqI/",
          "dtype": "f8"
         }
        }
       ],
       "layout": {
        "hovermode": "x unified",
        "showlegend": true,
        "template": {
         "data": {
          "bar": [
           {
            "error_x": {
             "color": "#2a3f5f"
            },
            "error_y": {
             "color": "#2a3f5f"
            },
            "marker": {
             "line": {
              "color": "#E5ECF6",
              "width": 0.5
             },
             "pattern": {
              "fillmode": "overlay",
              "size": 10,
              "solidity": 0.2
             }
            },
            "type": "bar"
           }
          ],
          "barpolar": [
           {
            "marker": {
             "line": {
              "color": "#E5ECF6",
              "width": 0.5
             },
             "pattern": {
              "fillmode": "overlay",
              "size": 10,
              "solidity": 0.2
             }
            },
            "type": "barpolar"
           }
          ],
          "carpet": [
           {
            "aaxis": {
             "endlinecolor": "#2a3f5f",
             "gridcolor": "white",
             "linecolor": "white",
             "minorgridcolor": "white",
             "startlinecolor": "#2a3f5f"
            },
            "baxis": {
             "endlinecolor": "#2a3f5f",
             "gridcolor": "white",
             "linecolor": "white",
             "minorgridcolor": "white",
             "startlinecolor": "#2a3f5f"
            },
            "type": "carpet"
           }
          ],
          "choropleth": [
           {
            "colorbar": {
             "outlinewidth": 0,
             "ticks": ""
            },
            "type": "choropleth"
           }
          ],
          "contour": [
           {
            "colorbar": {
             "outlinewidth": 0,
             "ticks": ""
            },
            "colorscale": [
             [
              0,
              "#0d0887"
             ],
             [
              0.1111111111111111,
              "#46039f"
             ],
             [
              0.2222222222222222,
              "#7201a8"
             ],
             [
              0.3333333333333333,
              "#9c179e"
             ],
             [
              0.4444444444444444,
              "#bd3786"
             ],
             [
              0.5555555555555556,
              "#d8576b"
             ],
             [
              0.6666666666666666,
              "#ed7953"
             ],
             [
              0.7777777777777778,
              "#fb9f3a"
             ],
             [
              0.8888888888888888,
              "#fdca26"
             ],
             [
              1,
              "#f0f921"
             ]
            ],
            "type": "contour"
           }
          ],
          "contourcarpet": [
           {
            "colorbar": {
             "outlinewidth": 0,
             "ticks": ""
            },
            "type": "contourcarpet"
           }
          ],
          "heatmap": [
           {
            "colorbar": {
             "outlinewidth": 0,
             "ticks": ""
            },
            "colorscale": [
             [
              0,
              "#0d0887"
             ],
             [
              0.1111111111111111,
              "#46039f"
             ],
             [
              0.2222222222222222,
              "#7201a8"
             ],
             [
              0.3333333333333333,
              "#9c179e"
             ],
             [
              0.4444444444444444,
              "#bd3786"
             ],
             [
              0.5555555555555556,
              "#d8576b"
             ],
             [
              0.6666666666666666,
              "#ed7953"
             ],
             [
              0.7777777777777778,
              "#fb9f3a"
             ],
             [
              0.8888888888888888,
              "#fdca26"
             ],
             [
              1,
              "#f0f921"
             ]
            ],
            "type": "heatmap"
           }
          ],
          "histogram": [
           {
            "marker": {
             "pattern": {
              "fillmode": "overlay",
              "size": 10,
              "solidity": 0.2
             }
            },
            "type": "histogram"
           }
          ],
          "histogram2d": [
           {
            "colorbar": {
             "outlinewidth": 0,
             "ticks": ""
            },
            "colorscale": [
             [
              0,
              "#0d0887"
             ],
             [
              0.1111111111111111,
              "#46039f"
             ],
             [
              0.2222222222222222,
              "#7201a8"
             ],
             [
              0.3333333333333333,
              "#9c179e"
             ],
             [
              0.4444444444444444,
              "#bd3786"
             ],
             [
              0.5555555555555556,
              "#d8576b"
             ],
             [
              0.6666666666666666,
              "#ed7953"
             ],
             [
              0.7777777777777778,
              "#fb9f3a"
             ],
             [
              0.8888888888888888,
              "#fdca26"
             ],
             [
              1,
              "#f0f921"
             ]
            ],
            "type": "histogram2d"
           }
          ],
          "histogram2dcontour": [
           {
            "colorbar": {
             "outlinewidth": 0,
             "ticks": ""
            },
            "colorscale": [
             [
              0,
              "#0d0887"
             ],
             [
              0.1111111111111111,
              "#46039f"
             ],
             [
              0.2222222222222222,
              "#7201a8"
             ],
             [
              0.3333333333333333,
              "#9c179e"
             ],
             [
              0.4444444444444444,
              "#bd3786"
             ],
             [
              0.5555555555555556,
              "#d8576b"
             ],
             [
              0.6666666666666666,
              "#ed7953"
             ],
             [
              0.7777777777777778,
              "#fb9f3a"
             ],
             [
              0.8888888888888888,
              "#fdca26"
             ],
             [
              1,
              "#f0f921"
             ]
            ],
            "type": "histogram2dcontour"
           }
          ],
          "mesh3d": [
           {
            "colorbar": {
             "outlinewidth": 0,
             "ticks": ""
            },
            "type": "mesh3d"
           }
          ],
          "parcoords": [
           {
            "line": {
             "colorbar": {
              "outlinewidth": 0,
              "ticks": ""
             }
            },
            "type": "parcoords"
           }
          ],
          "pie": [
           {
            "automargin": true,
            "type": "pie"
           }
          ],
          "scatter": [
           {
            "fillpattern": {
             "fillmode": "overlay",
             "size": 10,
             "solidity": 0.2
            },
            "type": "scatter"
           }
          ],
          "scatter3d": [
           {
            "line": {
             "colorbar": {
              "outlinewidth": 0,
              "ticks": ""
             }
            },
            "marker": {
             "colorbar": {
              "outlinewidth": 0,
              "ticks": ""
             }
            },
            "type": "scatter3d"
           }
          ],
          "scattercarpet": [
           {
            "marker": {
             "colorbar": {
              "outlinewidth": 0,
              "ticks": ""
             }
            },
            "type": "scattercarpet"
           }
          ],
          "scattergeo": [
           {
            "marker": {
             "colorbar": {
              "outlinewidth": 0,
              "ticks": ""
             }
            },
            "type": "scattergeo"
           }
          ],
          "scattergl": [
           {
            "marker": {
             "colorbar": {
              "outlinewidth": 0,
              "ticks": ""
             }
            },
            "type": "scattergl"
           }
          ],
          "scattermap": [
           {
            "marker": {
             "colorbar": {
              "outlinewidth": 0,
              "ticks": ""
             }
            },
            "type": "scattermap"
           }
          ],
          "scattermapbox": [
           {
            "marker": {
             "colorbar": {
              "outlinewidth": 0,
              "ticks": ""
             }
            },
            "type": "scattermapbox"
           }
          ],
          "scatterpolar": [
           {
            "marker": {
             "colorbar": {
              "outlinewidth": 0,
              "ticks": ""
             }
            },
            "type": "scatterpolar"
           }
          ],
          "scatterpolargl": [
           {
            "marker": {
             "colorbar": {
              "outlinewidth": 0,
              "ticks": ""
             }
            },
            "type": "scatterpolargl"
           }
          ],
          "scatterternary": [
           {
            "marker": {
             "colorbar": {
              "outlinewidth": 0,
              "ticks": ""
             }
            },
            "type": "scatterternary"
           }
          ],
          "surface": [
           {
            "colorbar": {
             "outlinewidth": 0,
             "ticks": ""
            },
            "colorscale": [
             [
              0,
              "#0d0887"
             ],
             [
              0.1111111111111111,
              "#46039f"
             ],
             [
              0.2222222222222222,
              "#7201a8"
             ],
             [
              0.3333333333333333,
              "#9c179e"
             ],
             [
              0.4444444444444444,
              "#bd3786"
             ],
             [
              0.5555555555555556,
              "#d8576b"
             ],
             [
              0.6666666666666666,
              "#ed7953"
             ],
             [
              0.7777777777777778,
              "#fb9f3a"
             ],
             [
              0.8888888888888888,
              "#fdca26"
             ],
             [
              1,
              "#f0f921"
             ]
            ],
            "type": "surface"
           }
          ],
          "table": [
           {
            "cells": {
             "fill": {
              "color": "#EBF0F8"
             },
             "line": {
              "color": "white"
             }
            },
            "header": {
             "fill": {
              "color": "#C8D4E3"
             },
             "line": {
              "color": "white"
             }
            },
            "type": "table"
           }
          ]
         },
         "layout": {
          "annotationdefaults": {
           "arrowcolor": "#2a3f5f",
           "arrowhead": 0,
           "arrowwidth": 1
          },
          "autotypenumbers": "strict",
          "coloraxis": {
           "colorbar": {
            "outlinewidth": 0,
            "ticks": ""
           }
          },
          "colorscale": {
           "diverging": [
            [
             0,
             "#8e0152"
            ],
            [
             0.1,
             "#c51b7d"
            ],
            [
             0.2,
             "#de77ae"
            ],
            [
             0.3,
             "#f1b6da"
            ],
            [
             0.4,
             "#fde0ef"
            ],
            [
             0.5,
             "#f7f7f7"
            ],
            [
             0.6,
             "#e6f5d0"
            ],
            [
             0.7,
             "#b8e186"
            ],
            [
             0.8,
             "#7fbc41"
            ],
            [
             0.9,
             "#4d9221"
            ],
            [
             1,
             "#276419"
            ]
           ],
           "sequential": [
            [
             0,
             "#0d0887"
            ],
            [
             0.1111111111111111,
             "#46039f"
            ],
            [
             0.2222222222222222,
             "#7201a8"
            ],
            [
             0.3333333333333333,
             "#9c179e"
            ],
            [
             0.4444444444444444,
             "#bd3786"
            ],
            [
             0.5555555555555556,
             "#d8576b"
            ],
            [
             0.6666666666666666,
             "#ed7953"
            ],
            [
             0.7777777777777778,
             "#fb9f3a"
            ],
            [
             0.8888888888888888,
             "#fdca26"
            ],
            [
             1,
             "#f0f921"
            ]
           ],
           "sequentialminus": [
            [
             0,
             "#0d0887"
            ],
            [
             0.1111111111111111,
             "#46039f"
            ],
            [
             0.2222222222222222,
             "#7201a8"
            ],
            [
             0.3333333333333333,
             "#9c179e"
            ],
            [
             0.4444444444444444,
             "#bd3786"
            ],
            [
             0.5555555555555556,
             "#d8576b"
            ],
            [
             0.6666666666666666,
             "#ed7953"
            ],
            [
             0.7777777777777778,
             "#fb9f3a"
            ],
            [
             0.8888888888888888,
             "#fdca26"
            ],
            [
             1,
             "#f0f921"
            ]
           ]
          },
          "colorway": [
           "#636efa",
           "#EF553B",
           "#00cc96",
           "#ab63fa",
           "#FFA15A",
           "#19d3f3",
           "#FF6692",
           "#B6E880",
           "#FF97FF",
           "#FECB52"
          ],
          "font": {
           "color": "#2a3f5f"
          },
          "geo": {
           "bgcolor": "white",
           "lakecolor": "white",
           "landcolor": "#E5ECF6",
           "showlakes": true,
           "showland": true,
           "subunitcolor": "white"
          },
          "hoverlabel": {
           "align": "left"
          },
          "hovermode": "closest",
          "mapbox": {
           "style": "light"
          },
          "paper_bgcolor": "white",
          "plot_bgcolor": "#E5ECF6",
          "polar": {
           "angularaxis": {
            "gridcolor": "white",
            "linecolor": "white",
            "ticks": ""
           },
           "bgcolor": "#E5ECF6",
           "radialaxis": {
            "gridcolor": "white",
            "linecolor": "white",
            "ticks": ""
           }
          },
          "scene": {
           "xaxis": {
            "backgroundcolor": "#E5ECF6",
            "gridcolor": "white",
            "gridwidth": 2,
            "linecolor": "white",
            "showbackground": true,
            "ticks": "",
            "zerolinecolor": "white"
           },
           "yaxis": {
            "backgroundcolor": "#E5ECF6",
            "gridcolor": "white",
            "gridwidth": 2,
            "linecolor": "white",
            "showbackground": true,
            "ticks": "",
            "zerolinecolor": "white"
           },
           "zaxis": {
            "backgroundcolor": "#E5ECF6",
            "gridcolor": "white",
            "gridwidth": 2,
            "linecolor": "white",
            "showbackground": true,
            "ticks": "",
            "zerolinecolor": "white"
           }
          },
          "shapedefaults": {
           "line": {
            "color": "#2a3f5f"
           }
          },
          "ternary": {
           "aaxis": {
            "gridcolor": "white",
            "linecolor": "white",
            "ticks": ""
           },
           "baxis": {
            "gridcolor": "white",
            "linecolor": "white",
            "ticks": ""
           },
           "bgcolor": "#E5ECF6",
           "caxis": {
            "gridcolor": "white",
            "linecolor": "white",
            "ticks": ""
           }
          },
          "title": {
           "x": 0.05
          },
          "xaxis": {
           "automargin": true,
           "gridcolor": "white",
           "linecolor": "white",
           "ticks": "",
           "title": {
            "standoff": 15
           },
           "zerolinecolor": "white",
           "zerolinewidth": 2
          },
          "yaxis": {
           "automargin": true,
           "gridcolor": "white",
           "linecolor": "white",
           "ticks": "",
           "title": {
            "standoff": 15
           },
           "zerolinecolor": "white",
           "zerolinewidth": 2
          }
         }
        },
        "title": {
         "text": "Training and Validation Loss (Interactive)"
        },
        "xaxis": {
         "title": {
          "text": "Epoch"
         }
        },
        "yaxis": {
         "title": {
          "text": "Loss (log scale)"
         }
        }
       }
      }
     },
     "metadata": {},
     "output_type": "display_data"
    }
   ],
   "source": [
    "import torch\n",
    "import torch.nn as nn\n",
    "import torch.optim as optim\n",
    "from NeuralNet import FeedForwardNN  # Import the FeedForwardNN class\n",
    "from torch.utils.data import DataLoader, TensorDataset\n",
    "import matplotlib.pyplot as plt\n",
    "\n",
    "# Define the model\n",
    "input_size = X_train.shape[1]  # Number of features\n",
    "hidden_sizes = [32, 64, 128]  # Hidden layer sizes\n",
    "model = FeedForwardNN(input_size=input_size, hidden_sizes=hidden_sizes)\n",
    "\n",
    "# Define the loss function and optimizer\n",
    "criterion = nn.CrossEntropyLoss()  # For multi-class classification\n",
    "optimizer = optim.Adam(model.parameters(), lr=0.001)\n",
    "\n",
    "# Initialize lists to log losses\n",
    "train_losses = []\n",
    "val_losses = []\n",
    "\n",
    "# Training loop\n",
    "num_epochs = 75\n",
    "for epoch in range(num_epochs):\n",
    "    # Training phase\n",
    "    model.train()\n",
    "    train_loss = 0\n",
    "    for batch_X, batch_y in train_loader:\n",
    "        optimizer.zero_grad()\n",
    "        outputs = model(batch_X)\n",
    "        loss = criterion(outputs, batch_y)\n",
    "        loss.backward()\n",
    "        optimizer.step()\n",
    "        train_loss += loss.item()\n",
    "\n",
    "    # Validation phase\n",
    "    model.eval()\n",
    "    val_loss = 0\n",
    "    correct = 0\n",
    "    total = 0\n",
    "    with torch.no_grad():\n",
    "        for batch_X, batch_y in val_loader:\n",
    "            outputs = model(batch_X)\n",
    "            loss = criterion(outputs, batch_y)\n",
    "            val_loss += loss.item()\n",
    "            _, predicted = torch.max(outputs, 1)\n",
    "            total += batch_y.size(0)\n",
    "            correct += (predicted == batch_y).sum().item()\n",
    "\n",
    "    # Log losses\n",
    "    train_losses.append(train_loss / len(train_loader))\n",
    "    val_losses.append(val_loss / len(val_loader))\n",
    "\n",
    "    # Print epoch results\n",
    "    print(f\"Epoch {epoch+1}/{num_epochs}\")\n",
    "    print(f\"Train Loss: {train_losses[-1]:.4f}\")\n",
    "    print(f\"Validation Loss: {val_losses[-1]:.4f}\")\n",
    "    print(f\"Validation Accuracy: {100 * correct / total:.2f}%\")\n",
    "\n",
    "# Plot training and validation losses\n",
    "plt.figure(figsize=(10, 6))\n",
    "plt.plot(range(1, num_epochs + 1), np.log(train_losses), label='Training Loss')\n",
    "plt.plot(range(1, num_epochs + 1), np.log(val_losses), label='Validation Loss')\n",
    "plt.xlabel('Epoch')\n",
    "plt.ylabel('Loss (log scale)')\n",
    "plt.title('Training and Validation Loss')\n",
    "plt.legend()\n",
    "plt.grid()\n",
    "plt.show()\n",
    "\n",
    "# Testing phase\n",
    "model.eval()\n",
    "test_loss = 0\n",
    "correct = 0\n",
    "total = 0\n",
    "with torch.no_grad():\n",
    "    for batch_X, batch_y in test_loader:\n",
    "        outputs = model(batch_X)\n",
    "        loss = criterion(outputs, batch_y)\n",
    "        test_loss += loss.item()\n",
    "        _, predicted = torch.max(outputs, 1)\n",
    "        total += batch_y.size(0)\n",
    "        correct += (predicted == batch_y).sum().item()\n",
    "\n",
    "print(f\"Test Loss: {test_loss / len(test_loader):.4f}\")\n",
    "print(f\"Test Accuracy: {100 * correct / total:.2f}%\")\n",
    "\n",
    "# Interactive plot using Plotly\n",
    "import plotly.graph_objects as go\n",
    "\n",
    "fig = go.Figure()\n",
    "\n",
    "fig.add_trace(go.Scatter(\n",
    "    x=list(range(1, num_epochs + 1)),\n",
    "    y=np.log(train_losses),\n",
    "    name='Training Loss',\n",
    "    mode='lines+markers'\n",
    "))\n",
    "\n",
    "fig.add_trace(go.Scatter(\n",
    "    x=list(range(1, num_epochs + 1)),\n",
    "    y=np.log(val_losses),\n",
    "    name='Validation Loss',\n",
    "    mode='lines+markers'\n",
    "))\n",
    "\n",
    "fig.update_layout(\n",
    "    title='Training and Validation Loss (Interactive)',\n",
    "    xaxis_title='Epoch',\n",
    "    yaxis_title='Loss (log scale)',\n",
    "    showlegend=True,\n",
    "    hovermode='x unified'\n",
    ")\n",
    "\n",
    "fig.show()"
   ]
  },
  {
   "cell_type": "markdown",
   "metadata": {},
   "source": [
    "### Now with PCA"
   ]
  },
  {
   "cell_type": "code",
   "execution_count": 6,
   "metadata": {},
   "outputs": [
    {
     "name": "stdout",
     "output_type": "stream",
     "text": [
      "Epoch 1/300\n",
      "Train Loss: 0.8019\n",
      "Validation Loss: 0.5678\n",
      "Validation Accuracy: 75.32%\n",
      "Epoch 2/300\n",
      "Train Loss: 0.5999\n",
      "Validation Loss: 0.5320\n",
      "Validation Accuracy: 76.48%\n",
      "Epoch 3/300\n",
      "Train Loss: 0.5582\n",
      "Validation Loss: 0.5193\n",
      "Validation Accuracy: 76.09%\n",
      "Epoch 4/300\n",
      "Train Loss: 0.5367\n",
      "Validation Loss: 0.5134\n",
      "Validation Accuracy: 76.74%\n",
      "Epoch 5/300\n",
      "Train Loss: 0.5310\n",
      "Validation Loss: 0.5066\n",
      "Validation Accuracy: 76.86%\n",
      "Epoch 6/300\n",
      "Train Loss: 0.5227\n",
      "Validation Loss: 0.5011\n",
      "Validation Accuracy: 76.99%\n",
      "Epoch 7/300\n",
      "Train Loss: 0.5158\n",
      "Validation Loss: 0.5038\n",
      "Validation Accuracy: 77.25%\n",
      "Epoch 8/300\n",
      "Train Loss: 0.5065\n",
      "Validation Loss: 0.4956\n",
      "Validation Accuracy: 76.86%\n",
      "Epoch 9/300\n",
      "Train Loss: 0.5068\n",
      "Validation Loss: 0.4928\n",
      "Validation Accuracy: 76.86%\n",
      "Epoch 10/300\n",
      "Train Loss: 0.4988\n",
      "Validation Loss: 0.4883\n",
      "Validation Accuracy: 77.38%\n",
      "Epoch 11/300\n",
      "Train Loss: 0.4922\n",
      "Validation Loss: 0.4818\n",
      "Validation Accuracy: 76.99%\n",
      "Epoch 12/300\n",
      "Train Loss: 0.4924\n",
      "Validation Loss: 0.4803\n",
      "Validation Accuracy: 77.89%\n",
      "Epoch 13/300\n",
      "Train Loss: 0.4948\n",
      "Validation Loss: 0.4767\n",
      "Validation Accuracy: 77.38%\n",
      "Epoch 14/300\n",
      "Train Loss: 0.4905\n",
      "Validation Loss: 0.4807\n",
      "Validation Accuracy: 78.53%\n",
      "Epoch 15/300\n",
      "Train Loss: 0.4865\n",
      "Validation Loss: 0.4857\n",
      "Validation Accuracy: 77.63%\n",
      "Epoch 16/300\n",
      "Train Loss: 0.4786\n",
      "Validation Loss: 0.4720\n",
      "Validation Accuracy: 77.38%\n",
      "Epoch 17/300\n",
      "Train Loss: 0.4788\n",
      "Validation Loss: 0.4773\n",
      "Validation Accuracy: 77.89%\n",
      "Epoch 18/300\n",
      "Train Loss: 0.4808\n",
      "Validation Loss: 0.4715\n",
      "Validation Accuracy: 77.76%\n",
      "Epoch 19/300\n",
      "Train Loss: 0.4786\n",
      "Validation Loss: 0.4711\n",
      "Validation Accuracy: 77.89%\n",
      "Epoch 20/300\n",
      "Train Loss: 0.4708\n",
      "Validation Loss: 0.4738\n",
      "Validation Accuracy: 78.15%\n",
      "Epoch 21/300\n",
      "Train Loss: 0.4681\n",
      "Validation Loss: 0.4734\n",
      "Validation Accuracy: 78.15%\n",
      "Epoch 22/300\n",
      "Train Loss: 0.4699\n",
      "Validation Loss: 0.4790\n",
      "Validation Accuracy: 78.41%\n",
      "Epoch 23/300\n",
      "Train Loss: 0.4737\n",
      "Validation Loss: 0.4673\n",
      "Validation Accuracy: 78.28%\n",
      "Epoch 24/300\n",
      "Train Loss: 0.4688\n",
      "Validation Loss: 0.4657\n",
      "Validation Accuracy: 78.02%\n",
      "Epoch 25/300\n",
      "Train Loss: 0.4716\n",
      "Validation Loss: 0.4665\n",
      "Validation Accuracy: 77.76%\n",
      "Epoch 26/300\n",
      "Train Loss: 0.4648\n",
      "Validation Loss: 0.4769\n",
      "Validation Accuracy: 77.51%\n",
      "Epoch 27/300\n",
      "Train Loss: 0.4634\n",
      "Validation Loss: 0.4678\n",
      "Validation Accuracy: 77.89%\n",
      "Epoch 28/300\n",
      "Train Loss: 0.4650\n",
      "Validation Loss: 0.4671\n",
      "Validation Accuracy: 78.53%\n",
      "Epoch 29/300\n",
      "Train Loss: 0.4634\n",
      "Validation Loss: 0.4647\n",
      "Validation Accuracy: 78.15%\n",
      "Epoch 30/300\n",
      "Train Loss: 0.4600\n",
      "Validation Loss: 0.4556\n",
      "Validation Accuracy: 78.28%\n",
      "Epoch 31/300\n",
      "Train Loss: 0.4674\n",
      "Validation Loss: 0.4534\n",
      "Validation Accuracy: 79.31%\n",
      "Epoch 32/300\n",
      "Train Loss: 0.4630\n",
      "Validation Loss: 0.4534\n",
      "Validation Accuracy: 78.66%\n",
      "Epoch 33/300\n",
      "Train Loss: 0.4618\n",
      "Validation Loss: 0.4581\n",
      "Validation Accuracy: 78.53%\n",
      "Epoch 34/300\n",
      "Train Loss: 0.4591\n",
      "Validation Loss: 0.4623\n",
      "Validation Accuracy: 78.66%\n",
      "Epoch 35/300\n",
      "Train Loss: 0.4593\n",
      "Validation Loss: 0.4565\n",
      "Validation Accuracy: 78.66%\n",
      "Epoch 36/300\n",
      "Train Loss: 0.4623\n",
      "Validation Loss: 0.4568\n",
      "Validation Accuracy: 78.79%\n",
      "Epoch 37/300\n",
      "Train Loss: 0.4538\n",
      "Validation Loss: 0.4532\n",
      "Validation Accuracy: 78.92%\n",
      "Epoch 38/300\n",
      "Train Loss: 0.4504\n",
      "Validation Loss: 0.4578\n",
      "Validation Accuracy: 78.28%\n",
      "Epoch 39/300\n",
      "Train Loss: 0.4583\n",
      "Validation Loss: 0.4582\n",
      "Validation Accuracy: 78.53%\n",
      "Epoch 40/300\n",
      "Train Loss: 0.4555\n",
      "Validation Loss: 0.4676\n",
      "Validation Accuracy: 78.53%\n",
      "Epoch 41/300\n",
      "Train Loss: 0.4538\n",
      "Validation Loss: 0.4534\n",
      "Validation Accuracy: 78.92%\n",
      "Epoch 42/300\n",
      "Train Loss: 0.4594\n",
      "Validation Loss: 0.4576\n",
      "Validation Accuracy: 79.18%\n",
      "Epoch 43/300\n",
      "Train Loss: 0.4491\n",
      "Validation Loss: 0.4603\n",
      "Validation Accuracy: 79.18%\n",
      "Epoch 44/300\n",
      "Train Loss: 0.4552\n",
      "Validation Loss: 0.4605\n",
      "Validation Accuracy: 79.18%\n",
      "Epoch 45/300\n",
      "Train Loss: 0.4555\n",
      "Validation Loss: 0.4565\n",
      "Validation Accuracy: 78.79%\n",
      "Epoch 46/300\n",
      "Train Loss: 0.4447\n",
      "Validation Loss: 0.4530\n",
      "Validation Accuracy: 78.66%\n",
      "Epoch 47/300\n",
      "Train Loss: 0.4566\n",
      "Validation Loss: 0.4524\n",
      "Validation Accuracy: 78.66%\n",
      "Epoch 48/300\n",
      "Train Loss: 0.4523\n",
      "Validation Loss: 0.4624\n",
      "Validation Accuracy: 79.05%\n",
      "Epoch 49/300\n",
      "Train Loss: 0.4527\n",
      "Validation Loss: 0.4526\n",
      "Validation Accuracy: 79.05%\n",
      "Epoch 50/300\n",
      "Train Loss: 0.4461\n",
      "Validation Loss: 0.4558\n",
      "Validation Accuracy: 78.66%\n",
      "Epoch 51/300\n",
      "Train Loss: 0.4505\n",
      "Validation Loss: 0.4547\n",
      "Validation Accuracy: 79.05%\n",
      "Epoch 52/300\n",
      "Train Loss: 0.4457\n",
      "Validation Loss: 0.4538\n",
      "Validation Accuracy: 78.66%\n",
      "Epoch 53/300\n",
      "Train Loss: 0.4501\n",
      "Validation Loss: 0.4530\n",
      "Validation Accuracy: 78.79%\n",
      "Epoch 54/300\n",
      "Train Loss: 0.4473\n",
      "Validation Loss: 0.4533\n",
      "Validation Accuracy: 78.92%\n",
      "Epoch 55/300\n",
      "Train Loss: 0.4405\n",
      "Validation Loss: 0.4527\n",
      "Validation Accuracy: 78.92%\n",
      "Epoch 56/300\n",
      "Train Loss: 0.4457\n",
      "Validation Loss: 0.4523\n",
      "Validation Accuracy: 78.79%\n",
      "Epoch 57/300\n",
      "Train Loss: 0.4394\n",
      "Validation Loss: 0.4522\n",
      "Validation Accuracy: 78.66%\n",
      "Epoch 58/300\n",
      "Train Loss: 0.4420\n",
      "Validation Loss: 0.4526\n",
      "Validation Accuracy: 78.92%\n",
      "Epoch 59/300\n",
      "Train Loss: 0.4426\n",
      "Validation Loss: 0.4520\n",
      "Validation Accuracy: 78.79%\n",
      "Epoch 60/300\n",
      "Train Loss: 0.4472\n",
      "Validation Loss: 0.4511\n",
      "Validation Accuracy: 78.79%\n",
      "Epoch 61/300\n",
      "Train Loss: 0.4405\n",
      "Validation Loss: 0.4519\n",
      "Validation Accuracy: 78.92%\n",
      "Epoch 62/300\n",
      "Train Loss: 0.4440\n",
      "Validation Loss: 0.4508\n",
      "Validation Accuracy: 79.18%\n",
      "Epoch 63/300\n",
      "Train Loss: 0.4425\n",
      "Validation Loss: 0.4520\n",
      "Validation Accuracy: 78.66%\n",
      "Epoch 64/300\n",
      "Train Loss: 0.4452\n",
      "Validation Loss: 0.4507\n",
      "Validation Accuracy: 78.66%\n",
      "Epoch 65/300\n",
      "Train Loss: 0.4413\n",
      "Validation Loss: 0.4506\n",
      "Validation Accuracy: 78.79%\n",
      "Epoch 66/300\n",
      "Train Loss: 0.4423\n",
      "Validation Loss: 0.4505\n",
      "Validation Accuracy: 78.92%\n",
      "Epoch 67/300\n",
      "Train Loss: 0.4397\n",
      "Validation Loss: 0.4507\n",
      "Validation Accuracy: 78.79%\n",
      "Epoch 68/300\n",
      "Train Loss: 0.4418\n",
      "Validation Loss: 0.4516\n",
      "Validation Accuracy: 78.92%\n",
      "Epoch 69/300\n",
      "Train Loss: 0.4400\n",
      "Validation Loss: 0.4516\n",
      "Validation Accuracy: 78.92%\n",
      "Epoch 70/300\n",
      "Train Loss: 0.4423\n",
      "Validation Loss: 0.4522\n",
      "Validation Accuracy: 78.66%\n",
      "Epoch 71/300\n",
      "Train Loss: 0.4451\n",
      "Validation Loss: 0.4520\n",
      "Validation Accuracy: 78.66%\n",
      "Epoch 72/300\n",
      "Train Loss: 0.4389\n",
      "Validation Loss: 0.4522\n",
      "Validation Accuracy: 78.66%\n",
      "Epoch 73/300\n",
      "Train Loss: 0.4385\n",
      "Validation Loss: 0.4518\n",
      "Validation Accuracy: 79.05%\n",
      "Epoch 74/300\n",
      "Train Loss: 0.4438\n",
      "Validation Loss: 0.4521\n",
      "Validation Accuracy: 78.79%\n",
      "Epoch 75/300\n",
      "Train Loss: 0.4397\n",
      "Validation Loss: 0.4520\n",
      "Validation Accuracy: 78.79%\n",
      "Epoch 76/300\n",
      "Train Loss: 0.4388\n",
      "Validation Loss: 0.4520\n",
      "Validation Accuracy: 78.79%\n",
      "Epoch 77/300\n",
      "Train Loss: 0.4394\n",
      "Validation Loss: 0.4504\n",
      "Validation Accuracy: 79.05%\n",
      "Epoch 78/300\n",
      "Train Loss: 0.4398\n",
      "Validation Loss: 0.4513\n",
      "Validation Accuracy: 78.92%\n",
      "Epoch 79/300\n",
      "Train Loss: 0.4366\n",
      "Validation Loss: 0.4518\n",
      "Validation Accuracy: 78.92%\n",
      "Epoch 80/300\n",
      "Train Loss: 0.4349\n",
      "Validation Loss: 0.4495\n",
      "Validation Accuracy: 79.18%\n",
      "Epoch 81/300\n",
      "Train Loss: 0.4374\n",
      "Validation Loss: 0.4511\n",
      "Validation Accuracy: 79.05%\n",
      "Epoch 82/300\n",
      "Train Loss: 0.4374\n",
      "Validation Loss: 0.4525\n",
      "Validation Accuracy: 78.79%\n",
      "Epoch 83/300\n",
      "Train Loss: 0.4389\n",
      "Validation Loss: 0.4513\n",
      "Validation Accuracy: 78.79%\n",
      "Epoch 84/300\n",
      "Train Loss: 0.4302\n",
      "Validation Loss: 0.4486\n",
      "Validation Accuracy: 78.92%\n",
      "Epoch 85/300\n",
      "Train Loss: 0.4398\n",
      "Validation Loss: 0.4493\n",
      "Validation Accuracy: 78.79%\n",
      "Epoch 86/300\n",
      "Train Loss: 0.4389\n",
      "Validation Loss: 0.4500\n",
      "Validation Accuracy: 78.79%\n",
      "Epoch 87/300\n",
      "Train Loss: 0.4409\n",
      "Validation Loss: 0.4492\n",
      "Validation Accuracy: 78.92%\n",
      "Epoch 88/300\n",
      "Train Loss: 0.4346\n",
      "Validation Loss: 0.4487\n",
      "Validation Accuracy: 78.79%\n",
      "Epoch 89/300\n",
      "Train Loss: 0.4313\n",
      "Validation Loss: 0.4485\n",
      "Validation Accuracy: 78.92%\n",
      "Epoch 90/300\n",
      "Train Loss: 0.4376\n",
      "Validation Loss: 0.4483\n",
      "Validation Accuracy: 78.79%\n",
      "Epoch 91/300\n",
      "Train Loss: 0.4373\n",
      "Validation Loss: 0.4494\n",
      "Validation Accuracy: 78.79%\n",
      "Epoch 92/300\n",
      "Train Loss: 0.4414\n",
      "Validation Loss: 0.4491\n",
      "Validation Accuracy: 78.79%\n",
      "Epoch 93/300\n",
      "Train Loss: 0.4380\n",
      "Validation Loss: 0.4492\n",
      "Validation Accuracy: 78.92%\n",
      "Epoch 94/300\n",
      "Train Loss: 0.4389\n",
      "Validation Loss: 0.4492\n",
      "Validation Accuracy: 79.18%\n",
      "Epoch 95/300\n",
      "Train Loss: 0.4394\n",
      "Validation Loss: 0.4487\n",
      "Validation Accuracy: 78.79%\n",
      "Epoch 96/300\n",
      "Train Loss: 0.4372\n",
      "Validation Loss: 0.4490\n",
      "Validation Accuracy: 79.18%\n",
      "Epoch 97/300\n",
      "Train Loss: 0.4388\n",
      "Validation Loss: 0.4484\n",
      "Validation Accuracy: 79.05%\n",
      "Epoch 98/300\n",
      "Train Loss: 0.4450\n",
      "Validation Loss: 0.4481\n",
      "Validation Accuracy: 78.92%\n",
      "Epoch 99/300\n",
      "Train Loss: 0.4343\n",
      "Validation Loss: 0.4482\n",
      "Validation Accuracy: 79.18%\n",
      "Epoch 100/300\n",
      "Train Loss: 0.4353\n",
      "Validation Loss: 0.4479\n",
      "Validation Accuracy: 78.66%\n",
      "Epoch 101/300\n",
      "Train Loss: 0.4396\n",
      "Validation Loss: 0.4480\n",
      "Validation Accuracy: 78.66%\n",
      "Epoch 102/300\n",
      "Train Loss: 0.4414\n",
      "Validation Loss: 0.4481\n",
      "Validation Accuracy: 78.66%\n",
      "Epoch 103/300\n",
      "Train Loss: 0.4402\n",
      "Validation Loss: 0.4480\n",
      "Validation Accuracy: 78.53%\n",
      "Epoch 104/300\n",
      "Train Loss: 0.4410\n",
      "Validation Loss: 0.4480\n",
      "Validation Accuracy: 78.53%\n",
      "Epoch 105/300\n",
      "Train Loss: 0.4331\n",
      "Validation Loss: 0.4480\n",
      "Validation Accuracy: 78.53%\n",
      "Epoch 106/300\n",
      "Train Loss: 0.4324\n",
      "Validation Loss: 0.4481\n",
      "Validation Accuracy: 78.79%\n",
      "Epoch 107/300\n",
      "Train Loss: 0.4299\n",
      "Validation Loss: 0.4482\n",
      "Validation Accuracy: 78.79%\n",
      "Epoch 108/300\n",
      "Train Loss: 0.4347\n",
      "Validation Loss: 0.4481\n",
      "Validation Accuracy: 78.66%\n",
      "Epoch 109/300\n",
      "Train Loss: 0.4338\n",
      "Validation Loss: 0.4483\n",
      "Validation Accuracy: 78.66%\n",
      "Epoch 110/300\n",
      "Train Loss: 0.4370\n",
      "Validation Loss: 0.4484\n",
      "Validation Accuracy: 78.79%\n",
      "Epoch 111/300\n",
      "Train Loss: 0.4391\n",
      "Validation Loss: 0.4484\n",
      "Validation Accuracy: 78.92%\n",
      "Epoch 112/300\n",
      "Train Loss: 0.4273\n",
      "Validation Loss: 0.4486\n",
      "Validation Accuracy: 78.79%\n",
      "Epoch 113/300\n",
      "Train Loss: 0.4393\n",
      "Validation Loss: 0.4484\n",
      "Validation Accuracy: 78.66%\n",
      "Epoch 114/300\n",
      "Train Loss: 0.4377\n",
      "Validation Loss: 0.4483\n",
      "Validation Accuracy: 78.66%\n",
      "Epoch 115/300\n",
      "Train Loss: 0.4439\n",
      "Validation Loss: 0.4483\n",
      "Validation Accuracy: 78.66%\n",
      "Epoch 116/300\n",
      "Train Loss: 0.4331\n",
      "Validation Loss: 0.4483\n",
      "Validation Accuracy: 78.66%\n",
      "Epoch 117/300\n",
      "Train Loss: 0.4363\n",
      "Validation Loss: 0.4482\n",
      "Validation Accuracy: 78.66%\n",
      "Epoch 118/300\n",
      "Train Loss: 0.4359\n",
      "Validation Loss: 0.4482\n",
      "Validation Accuracy: 78.66%\n",
      "Epoch 119/300\n",
      "Train Loss: 0.4327\n",
      "Validation Loss: 0.4481\n",
      "Validation Accuracy: 78.66%\n",
      "Epoch 120/300\n",
      "Train Loss: 0.4408\n",
      "Validation Loss: 0.4482\n",
      "Validation Accuracy: 78.66%\n",
      "Epoch 121/300\n",
      "Train Loss: 0.4375\n",
      "Validation Loss: 0.4482\n",
      "Validation Accuracy: 78.66%\n",
      "Epoch 122/300\n",
      "Train Loss: 0.4447\n",
      "Validation Loss: 0.4482\n",
      "Validation Accuracy: 78.66%\n",
      "Epoch 123/300\n",
      "Train Loss: 0.4383\n",
      "Validation Loss: 0.4480\n",
      "Validation Accuracy: 78.53%\n",
      "Epoch 124/300\n",
      "Train Loss: 0.4348\n",
      "Validation Loss: 0.4480\n",
      "Validation Accuracy: 78.53%\n",
      "Epoch 125/300\n",
      "Train Loss: 0.4318\n",
      "Validation Loss: 0.4479\n",
      "Validation Accuracy: 78.53%\n",
      "Epoch 126/300\n",
      "Train Loss: 0.4311\n",
      "Validation Loss: 0.4478\n",
      "Validation Accuracy: 78.53%\n",
      "Epoch 127/300\n",
      "Train Loss: 0.4366\n",
      "Validation Loss: 0.4478\n",
      "Validation Accuracy: 78.53%\n",
      "Epoch 128/300\n",
      "Train Loss: 0.4375\n",
      "Validation Loss: 0.4477\n",
      "Validation Accuracy: 78.53%\n",
      "Epoch 129/300\n",
      "Train Loss: 0.4319\n",
      "Validation Loss: 0.4476\n",
      "Validation Accuracy: 78.66%\n",
      "Epoch 130/300\n",
      "Train Loss: 0.4369\n",
      "Validation Loss: 0.4476\n",
      "Validation Accuracy: 78.53%\n",
      "Epoch 131/300\n",
      "Train Loss: 0.4428\n",
      "Validation Loss: 0.4476\n",
      "Validation Accuracy: 78.66%\n",
      "Epoch 132/300\n",
      "Train Loss: 0.4356\n",
      "Validation Loss: 0.4476\n",
      "Validation Accuracy: 78.53%\n",
      "Epoch 133/300\n",
      "Train Loss: 0.4377\n",
      "Validation Loss: 0.4476\n",
      "Validation Accuracy: 78.79%\n",
      "Epoch 134/300\n",
      "Train Loss: 0.4339\n",
      "Validation Loss: 0.4478\n",
      "Validation Accuracy: 78.79%\n",
      "Epoch 135/300\n",
      "Train Loss: 0.4462\n",
      "Validation Loss: 0.4477\n",
      "Validation Accuracy: 78.79%\n",
      "Epoch 136/300\n",
      "Train Loss: 0.4408\n",
      "Validation Loss: 0.4476\n",
      "Validation Accuracy: 78.79%\n",
      "Epoch 137/300\n",
      "Train Loss: 0.4384\n",
      "Validation Loss: 0.4476\n",
      "Validation Accuracy: 78.66%\n",
      "Epoch 138/300\n",
      "Train Loss: 0.4377\n",
      "Validation Loss: 0.4475\n",
      "Validation Accuracy: 78.66%\n",
      "Epoch 139/300\n",
      "Train Loss: 0.4416\n",
      "Validation Loss: 0.4474\n",
      "Validation Accuracy: 78.79%\n",
      "Epoch 140/300\n",
      "Train Loss: 0.4398\n",
      "Validation Loss: 0.4476\n",
      "Validation Accuracy: 78.92%\n",
      "Epoch 141/300\n",
      "Train Loss: 0.4296\n",
      "Validation Loss: 0.4473\n",
      "Validation Accuracy: 78.53%\n",
      "Epoch 142/300\n",
      "Train Loss: 0.4369\n",
      "Validation Loss: 0.4473\n",
      "Validation Accuracy: 78.79%\n",
      "Epoch 143/300\n",
      "Train Loss: 0.4392\n",
      "Validation Loss: 0.4474\n",
      "Validation Accuracy: 78.79%\n",
      "Epoch 144/300\n",
      "Train Loss: 0.4347\n",
      "Validation Loss: 0.4474\n",
      "Validation Accuracy: 78.79%\n",
      "Epoch 145/300\n",
      "Train Loss: 0.4371\n",
      "Validation Loss: 0.4475\n",
      "Validation Accuracy: 78.92%\n",
      "Epoch 146/300\n",
      "Train Loss: 0.4373\n",
      "Validation Loss: 0.4476\n",
      "Validation Accuracy: 78.92%\n",
      "Epoch 147/300\n",
      "Train Loss: 0.4355\n",
      "Validation Loss: 0.4475\n",
      "Validation Accuracy: 78.92%\n",
      "Epoch 148/300\n",
      "Train Loss: 0.4341\n",
      "Validation Loss: 0.4474\n",
      "Validation Accuracy: 78.79%\n",
      "Epoch 149/300\n",
      "Train Loss: 0.4403\n",
      "Validation Loss: 0.4474\n",
      "Validation Accuracy: 78.79%\n",
      "Epoch 150/300\n",
      "Train Loss: 0.4400\n",
      "Validation Loss: 0.4474\n",
      "Validation Accuracy: 78.79%\n",
      "Epoch 151/300\n",
      "Train Loss: 0.4406\n",
      "Validation Loss: 0.4473\n",
      "Validation Accuracy: 78.79%\n",
      "Epoch 152/300\n",
      "Train Loss: 0.4333\n",
      "Validation Loss: 0.4473\n",
      "Validation Accuracy: 78.79%\n",
      "Epoch 153/300\n",
      "Train Loss: 0.4341\n",
      "Validation Loss: 0.4473\n",
      "Validation Accuracy: 78.79%\n",
      "Epoch 154/300\n",
      "Train Loss: 0.4370\n",
      "Validation Loss: 0.4473\n",
      "Validation Accuracy: 78.79%\n",
      "Epoch 155/300\n",
      "Train Loss: 0.4375\n",
      "Validation Loss: 0.4473\n",
      "Validation Accuracy: 78.79%\n",
      "Epoch 156/300\n",
      "Train Loss: 0.4383\n",
      "Validation Loss: 0.4473\n",
      "Validation Accuracy: 78.79%\n",
      "Epoch 157/300\n",
      "Train Loss: 0.4355\n",
      "Validation Loss: 0.4473\n",
      "Validation Accuracy: 78.79%\n",
      "Epoch 158/300\n",
      "Train Loss: 0.4352\n",
      "Validation Loss: 0.4473\n",
      "Validation Accuracy: 78.79%\n",
      "Epoch 159/300\n",
      "Train Loss: 0.4386\n",
      "Validation Loss: 0.4473\n",
      "Validation Accuracy: 78.79%\n",
      "Epoch 160/300\n",
      "Train Loss: 0.4344\n",
      "Validation Loss: 0.4474\n",
      "Validation Accuracy: 78.79%\n",
      "Epoch 161/300\n",
      "Train Loss: 0.4350\n",
      "Validation Loss: 0.4474\n",
      "Validation Accuracy: 78.79%\n",
      "Epoch 162/300\n",
      "Train Loss: 0.4394\n",
      "Validation Loss: 0.4474\n",
      "Validation Accuracy: 78.79%\n",
      "Epoch 163/300\n",
      "Train Loss: 0.4368\n",
      "Validation Loss: 0.4474\n",
      "Validation Accuracy: 78.79%\n",
      "Epoch 164/300\n",
      "Train Loss: 0.4351\n",
      "Validation Loss: 0.4474\n",
      "Validation Accuracy: 78.79%\n",
      "Epoch 165/300\n",
      "Train Loss: 0.4374\n",
      "Validation Loss: 0.4474\n",
      "Validation Accuracy: 78.79%\n",
      "Epoch 166/300\n",
      "Train Loss: 0.4357\n",
      "Validation Loss: 0.4474\n",
      "Validation Accuracy: 78.79%\n",
      "Epoch 167/300\n",
      "Train Loss: 0.4359\n",
      "Validation Loss: 0.4474\n",
      "Validation Accuracy: 78.79%\n",
      "Epoch 168/300\n",
      "Train Loss: 0.4423\n",
      "Validation Loss: 0.4474\n",
      "Validation Accuracy: 78.79%\n",
      "Epoch 169/300\n",
      "Train Loss: 0.4369\n",
      "Validation Loss: 0.4473\n",
      "Validation Accuracy: 78.79%\n",
      "Epoch 170/300\n",
      "Train Loss: 0.4336\n",
      "Validation Loss: 0.4474\n",
      "Validation Accuracy: 78.79%\n",
      "Epoch 171/300\n",
      "Train Loss: 0.4358\n",
      "Validation Loss: 0.4473\n",
      "Validation Accuracy: 78.79%\n",
      "Epoch 172/300\n",
      "Train Loss: 0.4369\n",
      "Validation Loss: 0.4473\n",
      "Validation Accuracy: 78.79%\n",
      "Epoch 173/300\n",
      "Train Loss: 0.4375\n",
      "Validation Loss: 0.4473\n",
      "Validation Accuracy: 78.79%\n",
      "Epoch 174/300\n",
      "Train Loss: 0.4334\n",
      "Validation Loss: 0.4473\n",
      "Validation Accuracy: 78.79%\n",
      "Epoch 175/300\n",
      "Train Loss: 0.4357\n",
      "Validation Loss: 0.4473\n",
      "Validation Accuracy: 78.79%\n",
      "Epoch 176/300\n",
      "Train Loss: 0.4380\n",
      "Validation Loss: 0.4473\n",
      "Validation Accuracy: 78.79%\n",
      "Epoch 177/300\n",
      "Train Loss: 0.4369\n",
      "Validation Loss: 0.4473\n",
      "Validation Accuracy: 78.79%\n",
      "Epoch 178/300\n",
      "Train Loss: 0.4350\n",
      "Validation Loss: 0.4473\n",
      "Validation Accuracy: 78.79%\n",
      "Epoch 179/300\n",
      "Train Loss: 0.4319\n",
      "Validation Loss: 0.4473\n",
      "Validation Accuracy: 78.79%\n",
      "Epoch 180/300\n",
      "Train Loss: 0.4390\n",
      "Validation Loss: 0.4473\n",
      "Validation Accuracy: 78.92%\n",
      "Epoch 181/300\n",
      "Train Loss: 0.4305\n",
      "Validation Loss: 0.4473\n",
      "Validation Accuracy: 78.92%\n",
      "Epoch 182/300\n",
      "Train Loss: 0.4339\n",
      "Validation Loss: 0.4473\n",
      "Validation Accuracy: 78.92%\n",
      "Epoch 183/300\n",
      "Train Loss: 0.4358\n",
      "Validation Loss: 0.4473\n",
      "Validation Accuracy: 78.79%\n",
      "Epoch 184/300\n",
      "Train Loss: 0.4433\n",
      "Validation Loss: 0.4473\n",
      "Validation Accuracy: 78.79%\n",
      "Epoch 185/300\n",
      "Train Loss: 0.4408\n",
      "Validation Loss: 0.4473\n",
      "Validation Accuracy: 78.79%\n",
      "Epoch 186/300\n",
      "Train Loss: 0.4375\n",
      "Validation Loss: 0.4473\n",
      "Validation Accuracy: 78.79%\n",
      "Epoch 187/300\n",
      "Train Loss: 0.4392\n",
      "Validation Loss: 0.4474\n",
      "Validation Accuracy: 78.79%\n",
      "Epoch 188/300\n",
      "Train Loss: 0.4319\n",
      "Validation Loss: 0.4474\n",
      "Validation Accuracy: 78.92%\n",
      "Epoch 189/300\n",
      "Train Loss: 0.4371\n",
      "Validation Loss: 0.4474\n",
      "Validation Accuracy: 78.92%\n",
      "Epoch 190/300\n",
      "Train Loss: 0.4386\n",
      "Validation Loss: 0.4474\n",
      "Validation Accuracy: 78.79%\n",
      "Epoch 191/300\n",
      "Train Loss: 0.4418\n",
      "Validation Loss: 0.4474\n",
      "Validation Accuracy: 78.79%\n",
      "Epoch 192/300\n",
      "Train Loss: 0.4435\n",
      "Validation Loss: 0.4474\n",
      "Validation Accuracy: 78.79%\n",
      "Epoch 193/300\n",
      "Train Loss: 0.4405\n",
      "Validation Loss: 0.4474\n",
      "Validation Accuracy: 78.79%\n",
      "Epoch 194/300\n",
      "Train Loss: 0.4383\n",
      "Validation Loss: 0.4474\n",
      "Validation Accuracy: 78.79%\n",
      "Epoch 195/300\n",
      "Train Loss: 0.4315\n",
      "Validation Loss: 0.4474\n",
      "Validation Accuracy: 78.79%\n",
      "Epoch 196/300\n",
      "Train Loss: 0.4380\n",
      "Validation Loss: 0.4474\n",
      "Validation Accuracy: 78.79%\n",
      "Epoch 197/300\n",
      "Train Loss: 0.4284\n",
      "Validation Loss: 0.4474\n",
      "Validation Accuracy: 78.79%\n",
      "Epoch 198/300\n",
      "Train Loss: 0.4312\n",
      "Validation Loss: 0.4474\n",
      "Validation Accuracy: 78.79%\n",
      "Epoch 199/300\n",
      "Train Loss: 0.4404\n",
      "Validation Loss: 0.4474\n",
      "Validation Accuracy: 78.79%\n",
      "Epoch 200/300\n",
      "Train Loss: 0.4368\n",
      "Validation Loss: 0.4474\n",
      "Validation Accuracy: 78.79%\n",
      "Epoch 201/300\n",
      "Train Loss: 0.4373\n",
      "Validation Loss: 0.4474\n",
      "Validation Accuracy: 78.79%\n",
      "Epoch 202/300\n",
      "Train Loss: 0.4381\n",
      "Validation Loss: 0.4474\n",
      "Validation Accuracy: 78.79%\n",
      "Epoch 203/300\n",
      "Train Loss: 0.4404\n",
      "Validation Loss: 0.4474\n",
      "Validation Accuracy: 78.79%\n",
      "Epoch 204/300\n",
      "Train Loss: 0.4393\n",
      "Validation Loss: 0.4474\n",
      "Validation Accuracy: 78.79%\n",
      "Epoch 205/300\n",
      "Train Loss: 0.4421\n",
      "Validation Loss: 0.4474\n",
      "Validation Accuracy: 78.79%\n",
      "Epoch 206/300\n",
      "Train Loss: 0.4402\n",
      "Validation Loss: 0.4474\n",
      "Validation Accuracy: 78.79%\n",
      "Epoch 207/300\n",
      "Train Loss: 0.4413\n",
      "Validation Loss: 0.4474\n",
      "Validation Accuracy: 78.79%\n",
      "Epoch 208/300\n",
      "Train Loss: 0.4354\n",
      "Validation Loss: 0.4474\n",
      "Validation Accuracy: 78.79%\n",
      "Epoch 209/300\n",
      "Train Loss: 0.4374\n",
      "Validation Loss: 0.4474\n",
      "Validation Accuracy: 78.79%\n",
      "Epoch 210/300\n",
      "Train Loss: 0.4381\n",
      "Validation Loss: 0.4474\n",
      "Validation Accuracy: 78.79%\n",
      "Epoch 211/300\n",
      "Train Loss: 0.4323\n",
      "Validation Loss: 0.4474\n",
      "Validation Accuracy: 78.79%\n",
      "Epoch 212/300\n",
      "Train Loss: 0.4394\n",
      "Validation Loss: 0.4474\n",
      "Validation Accuracy: 78.79%\n",
      "Epoch 213/300\n",
      "Train Loss: 0.4280\n",
      "Validation Loss: 0.4474\n",
      "Validation Accuracy: 78.79%\n",
      "Epoch 214/300\n",
      "Train Loss: 0.4427\n",
      "Validation Loss: 0.4474\n",
      "Validation Accuracy: 78.79%\n",
      "Epoch 215/300\n",
      "Train Loss: 0.4363\n",
      "Validation Loss: 0.4474\n",
      "Validation Accuracy: 78.79%\n",
      "Epoch 216/300\n",
      "Train Loss: 0.4426\n",
      "Validation Loss: 0.4474\n",
      "Validation Accuracy: 78.79%\n",
      "Epoch 217/300\n",
      "Train Loss: 0.4377\n",
      "Validation Loss: 0.4474\n",
      "Validation Accuracy: 78.79%\n",
      "Epoch 218/300\n",
      "Train Loss: 0.4309\n",
      "Validation Loss: 0.4474\n",
      "Validation Accuracy: 78.79%\n",
      "Epoch 219/300\n",
      "Train Loss: 0.4426\n",
      "Validation Loss: 0.4474\n",
      "Validation Accuracy: 78.79%\n",
      "Epoch 220/300\n",
      "Train Loss: 0.4367\n",
      "Validation Loss: 0.4474\n",
      "Validation Accuracy: 78.79%\n",
      "Epoch 221/300\n",
      "Train Loss: 0.4377\n",
      "Validation Loss: 0.4474\n",
      "Validation Accuracy: 78.79%\n",
      "Epoch 222/300\n",
      "Train Loss: 0.4345\n",
      "Validation Loss: 0.4474\n",
      "Validation Accuracy: 78.79%\n",
      "Epoch 223/300\n",
      "Train Loss: 0.4350\n",
      "Validation Loss: 0.4474\n",
      "Validation Accuracy: 78.79%\n",
      "Epoch 224/300\n",
      "Train Loss: 0.4314\n",
      "Validation Loss: 0.4474\n",
      "Validation Accuracy: 78.79%\n",
      "Epoch 225/300\n",
      "Train Loss: 0.4431\n",
      "Validation Loss: 0.4474\n",
      "Validation Accuracy: 78.79%\n",
      "Epoch 226/300\n",
      "Train Loss: 0.4340\n",
      "Validation Loss: 0.4474\n",
      "Validation Accuracy: 78.79%\n",
      "Epoch 227/300\n",
      "Train Loss: 0.4379\n",
      "Validation Loss: 0.4474\n",
      "Validation Accuracy: 78.79%\n",
      "Epoch 228/300\n",
      "Train Loss: 0.4342\n",
      "Validation Loss: 0.4474\n",
      "Validation Accuracy: 78.79%\n",
      "Epoch 229/300\n",
      "Train Loss: 0.4382\n",
      "Validation Loss: 0.4474\n",
      "Validation Accuracy: 78.79%\n",
      "Epoch 230/300\n",
      "Train Loss: 0.4361\n",
      "Validation Loss: 0.4474\n",
      "Validation Accuracy: 78.79%\n",
      "Epoch 231/300\n",
      "Train Loss: 0.4386\n",
      "Validation Loss: 0.4474\n",
      "Validation Accuracy: 78.79%\n",
      "Epoch 232/300\n",
      "Train Loss: 0.4384\n",
      "Validation Loss: 0.4474\n",
      "Validation Accuracy: 78.79%\n",
      "Epoch 233/300\n",
      "Train Loss: 0.4366\n",
      "Validation Loss: 0.4474\n",
      "Validation Accuracy: 78.79%\n",
      "Epoch 234/300\n",
      "Train Loss: 0.4348\n",
      "Validation Loss: 0.4474\n",
      "Validation Accuracy: 78.79%\n",
      "Epoch 235/300\n",
      "Train Loss: 0.4343\n",
      "Validation Loss: 0.4474\n",
      "Validation Accuracy: 78.79%\n",
      "Epoch 236/300\n",
      "Train Loss: 0.4348\n",
      "Validation Loss: 0.4474\n",
      "Validation Accuracy: 78.79%\n",
      "Epoch 237/300\n",
      "Train Loss: 0.4369\n",
      "Validation Loss: 0.4474\n",
      "Validation Accuracy: 78.79%\n",
      "Epoch 238/300\n",
      "Train Loss: 0.4367\n",
      "Validation Loss: 0.4474\n",
      "Validation Accuracy: 78.79%\n",
      "Epoch 239/300\n",
      "Train Loss: 0.4380\n",
      "Validation Loss: 0.4474\n",
      "Validation Accuracy: 78.79%\n",
      "Epoch 240/300\n",
      "Train Loss: 0.4324\n",
      "Validation Loss: 0.4474\n",
      "Validation Accuracy: 78.79%\n",
      "Epoch 241/300\n",
      "Train Loss: 0.4303\n",
      "Validation Loss: 0.4474\n",
      "Validation Accuracy: 78.79%\n",
      "Epoch 242/300\n",
      "Train Loss: 0.4376\n",
      "Validation Loss: 0.4474\n",
      "Validation Accuracy: 78.79%\n",
      "Epoch 243/300\n",
      "Train Loss: 0.4383\n",
      "Validation Loss: 0.4474\n",
      "Validation Accuracy: 78.79%\n",
      "Epoch 244/300\n",
      "Train Loss: 0.4359\n",
      "Validation Loss: 0.4474\n",
      "Validation Accuracy: 78.79%\n",
      "Epoch 245/300\n",
      "Train Loss: 0.4370\n",
      "Validation Loss: 0.4474\n",
      "Validation Accuracy: 78.79%\n",
      "Epoch 246/300\n",
      "Train Loss: 0.4368\n",
      "Validation Loss: 0.4474\n",
      "Validation Accuracy: 78.79%\n",
      "Epoch 247/300\n",
      "Train Loss: 0.4284\n",
      "Validation Loss: 0.4474\n",
      "Validation Accuracy: 78.79%\n",
      "Epoch 248/300\n",
      "Train Loss: 0.4353\n",
      "Validation Loss: 0.4474\n",
      "Validation Accuracy: 78.79%\n",
      "Epoch 249/300\n",
      "Train Loss: 0.4355\n",
      "Validation Loss: 0.4474\n",
      "Validation Accuracy: 78.79%\n",
      "Epoch 250/300\n",
      "Train Loss: 0.4382\n",
      "Validation Loss: 0.4474\n",
      "Validation Accuracy: 78.79%\n",
      "Epoch 251/300\n",
      "Train Loss: 0.4401\n",
      "Validation Loss: 0.4474\n",
      "Validation Accuracy: 78.79%\n",
      "Epoch 252/300\n",
      "Train Loss: 0.4343\n",
      "Validation Loss: 0.4474\n",
      "Validation Accuracy: 78.79%\n",
      "Epoch 253/300\n",
      "Train Loss: 0.4428\n",
      "Validation Loss: 0.4474\n",
      "Validation Accuracy: 78.79%\n",
      "Epoch 254/300\n",
      "Train Loss: 0.4330\n",
      "Validation Loss: 0.4474\n",
      "Validation Accuracy: 78.79%\n",
      "Epoch 255/300\n",
      "Train Loss: 0.4436\n",
      "Validation Loss: 0.4474\n",
      "Validation Accuracy: 78.79%\n",
      "Epoch 256/300\n",
      "Train Loss: 0.4399\n",
      "Validation Loss: 0.4474\n",
      "Validation Accuracy: 78.79%\n",
      "Epoch 257/300\n",
      "Train Loss: 0.4393\n",
      "Validation Loss: 0.4474\n",
      "Validation Accuracy: 78.79%\n",
      "Epoch 258/300\n",
      "Train Loss: 0.4354\n",
      "Validation Loss: 0.4474\n",
      "Validation Accuracy: 78.79%\n",
      "Epoch 259/300\n",
      "Train Loss: 0.4413\n",
      "Validation Loss: 0.4474\n",
      "Validation Accuracy: 78.79%\n",
      "Epoch 260/300\n",
      "Train Loss: 0.4417\n",
      "Validation Loss: 0.4474\n",
      "Validation Accuracy: 78.79%\n",
      "Epoch 261/300\n",
      "Train Loss: 0.4330\n",
      "Validation Loss: 0.4474\n",
      "Validation Accuracy: 78.79%\n",
      "Epoch 262/300\n",
      "Train Loss: 0.4387\n",
      "Validation Loss: 0.4474\n",
      "Validation Accuracy: 78.79%\n",
      "Epoch 263/300\n",
      "Train Loss: 0.4316\n",
      "Validation Loss: 0.4474\n",
      "Validation Accuracy: 78.79%\n",
      "Epoch 264/300\n",
      "Train Loss: 0.4363\n",
      "Validation Loss: 0.4474\n",
      "Validation Accuracy: 78.79%\n",
      "Epoch 265/300\n",
      "Train Loss: 0.4437\n",
      "Validation Loss: 0.4474\n",
      "Validation Accuracy: 78.79%\n",
      "Epoch 266/300\n",
      "Train Loss: 0.4376\n",
      "Validation Loss: 0.4474\n",
      "Validation Accuracy: 78.79%\n",
      "Epoch 267/300\n",
      "Train Loss: 0.4354\n",
      "Validation Loss: 0.4474\n",
      "Validation Accuracy: 78.79%\n",
      "Epoch 268/300\n",
      "Train Loss: 0.4348\n",
      "Validation Loss: 0.4474\n",
      "Validation Accuracy: 78.79%\n",
      "Epoch 269/300\n",
      "Train Loss: 0.4347\n",
      "Validation Loss: 0.4474\n",
      "Validation Accuracy: 78.79%\n",
      "Epoch 270/300\n",
      "Train Loss: 0.4346\n",
      "Validation Loss: 0.4474\n",
      "Validation Accuracy: 78.79%\n",
      "Epoch 271/300\n",
      "Train Loss: 0.4327\n",
      "Validation Loss: 0.4474\n",
      "Validation Accuracy: 78.79%\n",
      "Epoch 272/300\n",
      "Train Loss: 0.4355\n",
      "Validation Loss: 0.4474\n",
      "Validation Accuracy: 78.79%\n",
      "Epoch 273/300\n",
      "Train Loss: 0.4393\n",
      "Validation Loss: 0.4474\n",
      "Validation Accuracy: 78.79%\n",
      "Epoch 274/300\n",
      "Train Loss: 0.4352\n",
      "Validation Loss: 0.4474\n",
      "Validation Accuracy: 78.79%\n",
      "Epoch 275/300\n",
      "Train Loss: 0.4432\n",
      "Validation Loss: 0.4474\n",
      "Validation Accuracy: 78.79%\n",
      "Epoch 276/300\n",
      "Train Loss: 0.4373\n",
      "Validation Loss: 0.4474\n",
      "Validation Accuracy: 78.79%\n",
      "Epoch 277/300\n",
      "Train Loss: 0.4310\n",
      "Validation Loss: 0.4474\n",
      "Validation Accuracy: 78.79%\n",
      "Epoch 278/300\n",
      "Train Loss: 0.4336\n",
      "Validation Loss: 0.4474\n",
      "Validation Accuracy: 78.79%\n",
      "Epoch 279/300\n",
      "Train Loss: 0.4349\n",
      "Validation Loss: 0.4474\n",
      "Validation Accuracy: 78.79%\n",
      "Epoch 280/300\n",
      "Train Loss: 0.4353\n",
      "Validation Loss: 0.4474\n",
      "Validation Accuracy: 78.79%\n",
      "Epoch 281/300\n",
      "Train Loss: 0.4317\n",
      "Validation Loss: 0.4474\n",
      "Validation Accuracy: 78.79%\n",
      "Epoch 282/300\n",
      "Train Loss: 0.4372\n",
      "Validation Loss: 0.4474\n",
      "Validation Accuracy: 78.79%\n",
      "Epoch 283/300\n",
      "Train Loss: 0.4369\n",
      "Validation Loss: 0.4474\n",
      "Validation Accuracy: 78.79%\n",
      "Epoch 284/300\n",
      "Train Loss: 0.4335\n",
      "Validation Loss: 0.4474\n",
      "Validation Accuracy: 78.79%\n",
      "Epoch 285/300\n",
      "Train Loss: 0.4384\n",
      "Validation Loss: 0.4474\n",
      "Validation Accuracy: 78.79%\n",
      "Epoch 286/300\n",
      "Train Loss: 0.4297\n",
      "Validation Loss: 0.4474\n",
      "Validation Accuracy: 78.79%\n",
      "Epoch 287/300\n",
      "Train Loss: 0.4383\n",
      "Validation Loss: 0.4474\n",
      "Validation Accuracy: 78.79%\n",
      "Epoch 288/300\n",
      "Train Loss: 0.4368\n",
      "Validation Loss: 0.4474\n",
      "Validation Accuracy: 78.79%\n",
      "Epoch 289/300\n",
      "Train Loss: 0.4406\n",
      "Validation Loss: 0.4474\n",
      "Validation Accuracy: 78.79%\n",
      "Epoch 290/300\n",
      "Train Loss: 0.4411\n",
      "Validation Loss: 0.4474\n",
      "Validation Accuracy: 78.79%\n",
      "Epoch 291/300\n",
      "Train Loss: 0.4415\n",
      "Validation Loss: 0.4474\n",
      "Validation Accuracy: 78.79%\n",
      "Epoch 292/300\n",
      "Train Loss: 0.4399\n",
      "Validation Loss: 0.4474\n",
      "Validation Accuracy: 78.79%\n",
      "Epoch 293/300\n",
      "Train Loss: 0.4409\n",
      "Validation Loss: 0.4474\n",
      "Validation Accuracy: 78.79%\n",
      "Epoch 294/300\n",
      "Train Loss: 0.4345\n",
      "Validation Loss: 0.4474\n",
      "Validation Accuracy: 78.79%\n",
      "Epoch 295/300\n",
      "Train Loss: 0.4361\n",
      "Validation Loss: 0.4474\n",
      "Validation Accuracy: 78.79%\n",
      "Epoch 296/300\n",
      "Train Loss: 0.4402\n",
      "Validation Loss: 0.4474\n",
      "Validation Accuracy: 78.79%\n",
      "Epoch 297/300\n",
      "Train Loss: 0.4375\n",
      "Validation Loss: 0.4474\n",
      "Validation Accuracy: 78.79%\n",
      "Epoch 298/300\n",
      "Train Loss: 0.4361\n",
      "Validation Loss: 0.4474\n",
      "Validation Accuracy: 78.79%\n",
      "Epoch 299/300\n",
      "Train Loss: 0.4378\n",
      "Validation Loss: 0.4474\n",
      "Validation Accuracy: 78.79%\n",
      "Epoch 300/300\n",
      "Train Loss: 0.4364\n",
      "Validation Loss: 0.4474\n",
      "Validation Accuracy: 78.79%\n",
      "\n",
      "Test Loss: 0.4651\n",
      "Test Accuracy: 78.95%\n"
     ]
    }
   ],
   "source": [
    "# Load the new dataframe\n",
    "new_df = pd.read_csv('new_dataframe.csv')\n",
    "\n",
    "# Separate predictors and label\n",
    "X_new = new_df.drop(columns=['koi_disposition'])\n",
    "y_new = new_df['koi_disposition']\n",
    "\n",
    "# Split into training and testing sets (80% train, 20% test)\n",
    "X_new_train, X_new_temp, y_new_train, y_new_temp = train_test_split(X_new, y_new, test_size=0.2, random_state=42)\n",
    "\n",
    "# Further split the testing set into validation and testing sets (50% of 20% each)\n",
    "X_new_val, X_new_test, y_new_val, y_new_test = train_test_split(X_new_temp, y_new_temp, test_size=0.5, random_state=42)\n",
    "\n",
    "# Convert pandas DataFrames/Series to PyTorch tensors\n",
    "X_new_train_tensor = th.tensor(X_new_train.values, dtype=th.float32)\n",
    "y_new_train_tensor = th.tensor(y_new_train.values, dtype=th.long)\n",
    "X_new_val_tensor = th.tensor(X_new_val.values, dtype=th.float32)\n",
    "y_new_val_tensor = th.tensor(y_new_val.values, dtype=th.long)\n",
    "X_new_test_tensor = th.tensor(X_new_test.values, dtype=th.float32)\n",
    "y_new_test_tensor = th.tensor(y_new_test.values, dtype=th.long)\n",
    "\n",
    "# Create TensorDatasets\n",
    "new_train_dataset = TensorDataset(X_new_train_tensor, y_new_train_tensor)\n",
    "new_val_dataset = TensorDataset(X_new_val_tensor, y_new_val_tensor)\n",
    "new_test_dataset = TensorDataset(X_new_test_tensor, y_new_test_tensor)\n",
    "\n",
    "# Create DataLoaders\n",
    "new_train_loader = DataLoader(new_train_dataset, batch_size=32, shuffle=True)\n",
    "new_val_loader = DataLoader(new_val_dataset, batch_size=32, shuffle=False)\n",
    "new_test_loader = DataLoader(new_test_dataset, batch_size=32, shuffle=False)\n",
    "\n",
    "# Define the model\n",
    "new_input_size = X_new_train.shape[1]  # Number of features\n",
    "PCA_model = FeedForwardNN(input_size=new_input_size, hidden_sizes=hidden_sizes)\n",
    "\n",
    "# Define the loss function and optimizer\n",
    "new_criterion = nn.CrossEntropyLoss()\n",
    "new_optimizer = optim.Adam(PCA_model.parameters(), lr=0.001, weight_decay = 1e-5)\n",
    "\n",
    "# Define a learning rate scheduler\n",
    "scheduler = optim.lr_scheduler.StepLR(new_optimizer, step_size=50, gamma=0.1)\n",
    "\n",
    "# Initialize lists to log losses\n",
    "new_train_losses = []\n",
    "new_val_losses = []\n",
    "\n",
    "# New number of epochs\n",
    "num_epochs = 300\n",
    "\n",
    "# Training loop\n",
    "for epoch in range(num_epochs):\n",
    "    # Training phase\n",
    "    PCA_model.train()\n",
    "    new_train_loss = 0\n",
    "    for batch_X, batch_y in new_train_loader:\n",
    "        new_optimizer.zero_grad()\n",
    "        outputs = PCA_model(batch_X)\n",
    "        loss = new_criterion(outputs, batch_y)\n",
    "        loss.backward()\n",
    "        new_optimizer.step()\n",
    "        new_train_loss += loss.item()\n",
    "\n",
    "    # Validation phase\n",
    "    PCA_model.eval()\n",
    "    new_val_loss = 0\n",
    "    correct = 0\n",
    "    total = 0\n",
    "    with torch.no_grad():\n",
    "        for batch_X, batch_y in new_val_loader:\n",
    "            outputs = PCA_model(batch_X)\n",
    "            loss = new_criterion(outputs, batch_y)\n",
    "            new_val_loss += loss.item()\n",
    "            _, predicted = torch.max(outputs, 1)\n",
    "            total += batch_y.size(0)\n",
    "            correct += (predicted == batch_y).sum().item()\n",
    "\n",
    "    # Log losses\n",
    "    new_train_losses.append(new_train_loss / len(new_train_loader))\n",
    "    new_val_losses.append(new_val_loss / len(new_val_loader))\n",
    "\n",
    "    scheduler.step()  # Step the scheduler\n",
    "\n",
    "    # Print epoch results\n",
    "    print(f\"Epoch {epoch+1}/{num_epochs}\")\n",
    "    print(f\"Train Loss: {new_train_losses[-1]:.4f}\")\n",
    "    print(f\"Validation Loss: {new_val_losses[-1]:.4f}\")\n",
    "    print(f\"Validation Accuracy: {100 * correct / total:.2f}%\")\n",
    "\n",
    "# Testing phase\n",
    "PCA_model.eval()\n",
    "new_test_loss = 0\n",
    "correct = 0\n",
    "total = 0\n",
    "with torch.no_grad():\n",
    "    for batch_X, batch_y in new_test_loader:\n",
    "        outputs = PCA_model(batch_X)\n",
    "        loss = new_criterion(outputs, batch_y)\n",
    "        new_test_loss += loss.item()\n",
    "        _, predicted = torch.max(outputs, 1)\n",
    "        total += batch_y.size(0)\n",
    "        correct += (predicted == batch_y).sum().item()\n",
    "\n",
    "print()\n",
    "print(f\"Test Loss: {new_test_loss / len(new_test_loader):.4f}\")\n",
    "print(f\"Test Accuracy: {100 * correct / total:.2f}%\")"
   ]
  },
  {
   "cell_type": "code",
   "execution_count": 10,
   "metadata": {},
   "outputs": [
    {
     "data": {
      "image/png": "[encoded data removed]",
      "text/plain": [
       "<Figure size 1000x600 with 1 Axes>"
      ]
     },
     "metadata": {},
     "output_type": "display_data"
    },
    {
     "data": {
      "application/vnd.plotly.v1+json": {
       "config": {
        "plotlyServerURL": "https://plot.ly"
       },
       "data": [
        {
         "mode": "lines+markers",
         "name": "Training Loss",
         "type": "scatter",
         "x": [
          1,
          2,
          3,
          4,
          5,
          6,
          7,
          8,
          9,
          10,
          11,
          12,
          13,
          14,
          15,
          16,
          17,
          18,
          19,
          20,
          21,
          22,
          23,
          24,
          25,
          26,
          27,
          28,
          29,
          30,
          31,
          32,
          33,
          34,
          35,
          36,
          37,
          38,
          39,
          40,
          41,
          42,
          43,
          44,
          45,
          46,
          47,
          48,
          49,
          50,
          51,
          52,
          53,
          54,
          55,
          56,
          57,
          58,
          59,
          60,
          61,
          62,
          63,
          64,
          65,
          66,
          67,
          68,
          69,
          70,
          71,
          72,
          73,
          74,
          75,
          76,
          77,
          78,
          79,
          80,
          81,
          82,
          83,
          84,
          85,
          86,
          87,
          88,
          89,
          90,
          91,
          92,
          93,
          94,
          95,
          96,
          97,
          98,
          99,
          100,
          101,
          102,
          103,
          104,
          105,
          106,
          107,
          108,
          109,
          110,
          111,
          112,
          113,
          114,
          115,
          116,
          117,
          118,
          119,
          120,
          121,
          122,
          123,
          124,
          125,
          126,
          127,
          128,
          129,
          130,
          131,
          132,
          133,
          134,
          135,
          136,
          137,
          138,
          139,
          140,
          141,
          142,
          143,
          144,
          145,
          146,
          147,
          148,
          149,
          150,
          151,
          152,
          153,
          154,
          155,
          156,
          157,
          158,
          159,
          160,
          161,
          162,
          163,
          164,
          165,
          166,
          167,
          168,
          169,
          170,
          171,
          172,
          173,
          174,
          175,
          176,
          177,
          178,
          179,
          180,
          181,
          182,
          183,
          184,
          185,
          186,
          187,
          188,
          189,
          190,
          191,
          192,
          193,
          194,
          195,
          196,
          197,
          198,
          199,
          200,
          201,
          202,
          203,
          204,
          205,
          206,
          207,
          208,
          209,
          210,
          211,
          212,
          213,
          214,
          215,
          216,
          217,
          218,
          219,
          220,
          221,
          222,
          223,
          224,
          225,
          226,
          227,
          228,
          229,
          230,
          231,
          232,
          233,
          234,
          235,
          236,
          237,
          238,
          239,
          240,
          241,
          242,
          243,
          244,
          245,
          246,
          247,
          248,
          249,
          250,
          251,
          252,
          253,
          254,
          255,
          256,
          257,
          258,
          259,
          260,
          261,
          262,
          263,
          264,
          265,
          266,
          267,
          268,
          269,
          270,
          271,
          272,
          273,
          274,
          275,
          276,
          277,
          278,
          279,
          280,
          281,
          282,
          283,
          284,
          285,
          286,
          287,
          288,
          289,
          290,
          291,
          292,
          293,
          294,
          295,
          296,
          297,
          298,
          299,
          300
         ],
         "y": {
          "bdata": "q/fK3B0iIUBRkbL9CmkVQFeqp/fvn+o/uBzTquPm4D/6K4bppxDXP2ORgrN+4ss/xV0/nQzE1D+YhyFPiFWwP5aZzmogY8Q/CigXQkAatD9lcc4Xix6zP1s9K0EU4MA/ZEL1m+zj0T+y6E2YZIamP9qs7BqkF5c/xVSHByV7oz9W3mRTvNOQP9FOO/mzFsw/kLHCOPABkD+jHILSj1mtP009FCrRO4o/Oc7kPvZXkD9eAfJUPTiJP2gwHdKKkJA/VpOL+9Fewz+a0Gcv4aCOPwD3g1Us3ZA/V2gKg5I3jz8d6BX74RGOP5MvM+F2MZA/TjihKggvkD/EUGkekRKQP2RUnEXmdZA/VY3Noa9YkD98oXAUg+SQP/yv+5lcu48/HkJPPsJljz8kjhwZmMmiP7Vs+oYh0Kw/F7uiF5FJjz8Yl2G5d46PPyCWqkA0uYg/VFwSAlELiz8I1LX827SLP/xIrLPQqYs/Qs0Ct6SnjD+DdVS9HQGMP7jGDV+tOIw/Ts94mEeZij9lcuhmS3GuP4oUVC+Ff5s/1PWEjif/mj+MKLNVKvKaP83+pHU7w5s/fAM/tV2Fmz+rpVcmUKGbPxopDjA9pZs/St3BZGIKnD96bPIZGwCbP5KeU6lUu5s/NQaRXc+Pmz+1T5KArKCbPw4YjXxyfps/1oZEwnZymz/WxG+0QZ+bP1dyic0/WJs/FyEFIRBYmz/MJ0OA6gGcP8ulxJGgi5s/zeLSj6QXmz8v/knU7aybP+zxzXqrnJs/U30Gd2YRmz9c2J4jVgKbPzZ+ZguGo5s/",
          "dtype": "f8"
         }
        },
        {
         "mode": "lines+markers",
         "name": "Validation Loss",
         "type": "scatter",
         "x": [
          1,
          2,
          3,
          4,
          5,
          6,
          7,
          8,
          9,
          10,
          11,
          12,
          13,
          14,
          15,
          16,
          17,
          18,
          19,
          20,
          21,
          22,
          23,
          24,
          25,
          26,
          27,
          28,
          29,
          30,
          31,
          32,
          33,
          34,
          35,
          36,
          37,
          38,
          39,
          40,
          41,
          42,
          43,
          44,
          45,
          46,
          47,
          48,
          49,
          50,
          51,
          52,
          53,
          54,
          55,
          56,
          57,
          58,
          59,
          60,
          61,
          62,
          63,
          64,
          65,
          66,
          67,
          68,
          69,
          70,
          71,
          72,
          73,
          74,
          75,
          76,
          77,
          78,
          79,
          80,
          81,
          82,
          83,
          84,
          85,
          86,
          87,
          88,
          89,
          90,
          91,
          92,
          93,
          94,
          95,
          96,
          97,
          98,
          99,
          100,
          101,
          102,
          103,
          104,
          105,
          106,
          107,
          108,
          109,
          110,
          111,
          112,
          113,
          114,
          115,
          116,
          117,
          118,
          119,
          120,
          121,
          122,
          123,
          124,
          125,
          126,
          127,
          128,
          129,
          130,
          131,
          132,
          133,
          134,
          135,
          136,
          137,
          138,
          139,
          140,
          141,
          142,
          143,
          144,
          145,
          146,
          147,
          148,
          149,
          150,
          151,
          152,
          153,
          154,
          155,
          156,
          157,
          158,
          159,
          160,
          161,
          162,
          163,
          164,
          165,
          166,
          167,
          168,
          169,
          170,
          171,
          172,
          173,
          174,
          175,
          176,
          177,
          178,
          179,
          180,
          181,
          182,
          183,
          184,
          185,
          186,
          187,
          188,
          189,
          190,
          191,
          192,
          193,
          194,
          195,
          196,
          197,
          198,
          199,
          200,
          201,
          202,
          203,
          204,
          205,
          206,
          207,
          208,
          209,
          210,
          211,
          212,
          213,
          214,
          215,
          216,
          217,
          218,
          219,
          220,
          221,
          222,
          223,
          224,
          225,
          226,
          227,
          228,
          229,
          230,
          231,
          232,
          233,
          234,
          235,
          236,
          237,
          238,
          239,
          240,
          241,
          242,
          243,
          244,
          245,
          246,
          247,
          248,
          249,
          250,
          251,
          252,
          253,
          254,
          255,
          256,
          257,
          258,
          259,
          260,
          261,
          262,
          263,
          264,
          265,
          266,
          267,
          268,
          269,
          270,
          271,
          272,
          273,
          274,
          275,
          276,
          277,
          278,
          279,
          280,
          281,
          282,
          283,
          284,
          285,
          286,
          287,
          288,
          289,
          290,
          291,
          292,
          293,
          294,
          295,
          296,
          297,
          298,
          299,
          300
         ],
         "y": {
          "bdata": "PkeXiUw7EkBxcL6kOXSKP/dsZopXrYo/c49yXsl2kD/yyUZsN+iTP30wnxpQtZ8/rB5SPSqroD8u6QdNacqhP8QcjyeGw6E/b9cM66tUoj9yJQvNE6qhP+G1Ss/XUKA/JhQ/k5DzmT8Rx+oGNcuiPz0BLoqmxKI/Ml2caFa3oj9lznPBsdCiP6DrKGJjmKI/RdOUBfrkoj8l5uhKleOhP6yshNoJYqA/W8+cOq2goT+VpXQa176hP1SHZvRZR6I/E9EcICq4oj9v9Xgo6aKiP33lS61z2qI/eGAoS8nkoj/BqvNcJb+iP6/VY0sJ0qI/kxfp5fztoj/qxTnRYNKiP5TJrDrOzaI/AxUTB1Xnoj/KnPPg4xyjP4g33BL17KI/qrGAMmDCoj9IfVK+yseiPyiXubH+1aI/0XUKBKq/oj9cn6U3ysChP0bG7fyWlKE/eUT3U3nFoT/gjSkzaLGhP12wXVpuxqE/7Ikk8w2soT+iSHy24MahP7VWJlCK7qE/h5yvfHrFoT+xRcQyJ1WoP/kq6oW29ag/Xldhl10aqT/aZPV9LRipPwI5kz1e/ag/Fs2YqWYtqT9wDhe0UQmpPxNnWqNuGak/xU+LIFknqT+uTV5vDSWpP3uJQHUOPKk/oezmRjUOqT+MbH0fAhupP6ITUzYcH6k/q82OW/IoqT/Igl37jV2pP+ZykkLmJ6k/2GNsUCMBqT/9XvwD5hqpPwGd9dgCNqk/wvalB8gBqT+LY3jgRj+pP7+yaxcyRak/o9gBB5UqqT87JrpOfk2pPxDoEPcvM6k/",
          "dtype": "f8"
         }
        }
       ],
       "layout": {
        "hovermode": "x unified",
        "showlegend": true,
        "template": {
         "data": {
          "bar": [
           {
            "error_x": {
             "color": "#2a3f5f"
            },
            "error_y": {
             "color": "#2a3f5f"
            },
            "marker": {
             "line": {
              "color": "#E5ECF6",
              "width": 0.5
             },
             "pattern": {
              "fillmode": "overlay",
              "size": 10,
              "solidity": 0.2
             }
            },
            "type": "bar"
           }
          ],
          "barpolar": [
           {
            "marker": {
             "line": {
              "color": "#E5ECF6",
              "width": 0.5
             },
             "pattern": {
              "fillmode": "overlay",
              "size": 10,
              "solidity": 0.2
             }
            },
            "type": "barpolar"
           }
          ],
          "carpet": [
           {
            "aaxis": {
             "endlinecolor": "#2a3f5f",
             "gridcolor": "white",
             "linecolor": "white",
             "minorgridcolor": "white",
             "startlinecolor": "#2a3f5f"
            },
            "baxis": {
             "endlinecolor": "#2a3f5f",
             "gridcolor": "white",
             "linecolor": "white",
             "minorgridcolor": "white",
             "startlinecolor": "#2a3f5f"
            },
            "type": "carpet"
           }
          ],
          "choropleth": [
           {
            "colorbar": {
             "outlinewidth": 0,
             "ticks": ""
            },
            "type": "choropleth"
           }
          ],
          "contour": [
           {
            "colorbar": {
             "outlinewidth": 0,
             "ticks": ""
            },
            "colorscale": [
             [
              0,
              "#0d0887"
             ],
             [
              0.1111111111111111,
              "#46039f"
             ],
             [
              0.2222222222222222,
              "#7201a8"
             ],
             [
              0.3333333333333333,
              "#9c179e"
             ],
             [
              0.4444444444444444,
              "#bd3786"
             ],
             [
              0.5555555555555556,
              "#d8576b"
             ],
             [
              0.6666666666666666,
              "#ed7953"
             ],
             [
              0.7777777777777778,
              "#fb9f3a"
             ],
             [
              0.8888888888888888,
              "#fdca26"
             ],
             [
              1,
              "#f0f921"
             ]
            ],
            "type": "contour"
           }
          ],
          "contourcarpet": [
           {
            "colorbar": {
             "outlinewidth": 0,
             "ticks": ""
            },
            "type": "contourcarpet"
           }
          ],
          "heatmap": [
           {
            "colorbar": {
             "outlinewidth": 0,
             "ticks": ""
            },
            "colorscale": [
             [
              0,
              "#0d0887"
             ],
             [
              0.1111111111111111,
              "#46039f"
             ],
             [
              0.2222222222222222,
              "#7201a8"
             ],
             [
              0.3333333333333333,
              "#9c179e"
             ],
             [
              0.4444444444444444,
              "#bd3786"
             ],
             [
              0.5555555555555556,
              "#d8576b"
             ],
             [
              0.6666666666666666,
              "#ed7953"
             ],
             [
              0.7777777777777778,
              "#fb9f3a"
             ],
             [
              0.8888888888888888,
              "#fdca26"
             ],
             [
              1,
              "#f0f921"
             ]
            ],
            "type": "heatmap"
           }
          ],
          "histogram": [
           {
            "marker": {
             "pattern": {
              "fillmode": "overlay",
              "size": 10,
              "solidity": 0.2
             }
            },
            "type": "histogram"
           }
          ],
          "histogram2d": [
           {
            "colorbar": {
             "outlinewidth": 0,
             "ticks": ""
            },
            "colorscale": [
             [
              0,
              "#0d0887"
             ],
             [
              0.1111111111111111,
              "#46039f"
             ],
             [
              0.2222222222222222,
              "#7201a8"
             ],
             [
              0.3333333333333333,
              "#9c179e"
             ],
             [
              0.4444444444444444,
              "#bd3786"
             ],
             [
              0.5555555555555556,
              "#d8576b"
             ],
             [
              0.6666666666666666,
              "#ed7953"
             ],
             [
              0.7777777777777778,
              "#fb9f3a"
             ],
             [
              0.8888888888888888,
              "#fdca26"
             ],
             [
              1,
              "#f0f921"
             ]
            ],
            "type": "histogram2d"
           }
          ],
          "histogram2dcontour": [
           {
            "colorbar": {
             "outlinewidth": 0,
             "ticks": ""
            },
            "colorscale": [
             [
              0,
              "#0d0887"
             ],
             [
              0.1111111111111111,
              "#46039f"
             ],
             [
              0.2222222222222222,
              "#7201a8"
             ],
             [
              0.3333333333333333,
              "#9c179e"
             ],
             [
              0.4444444444444444,
              "#bd3786"
             ],
             [
              0.5555555555555556,
              "#d8576b"
             ],
             [
              0.6666666666666666,
              "#ed7953"
             ],
             [
              0.7777777777777778,
              "#fb9f3a"
             ],
             [
              0.8888888888888888,
              "#fdca26"
             ],
             [
              1,
              "#f0f921"
             ]
            ],
            "type": "histogram2dcontour"
           }
          ],
          "mesh3d": [
           {
            "colorbar": {
             "outlinewidth": 0,
             "ticks": ""
            },
            "type": "mesh3d"
           }
          ],
          "parcoords": [
           {
            "line": {
             "colorbar": {
              "outlinewidth": 0,
              "ticks": ""
             }
            },
            "type": "parcoords"
           }
          ],
          "pie": [
           {
            "automargin": true,
            "type": "pie"
           }
          ],
          "scatter": [
           {
            "fillpattern": {
             "fillmode": "overlay",
             "size": 10,
             "solidity": 0.2
            },
            "type": "scatter"
           }
          ],
          "scatter3d": [
           {
            "line": {
             "colorbar": {
              "outlinewidth": 0,
              "ticks": ""
             }
            },
            "marker": {
             "colorbar": {
              "outlinewidth": 0,
              "ticks": ""
             }
            },
            "type": "scatter3d"
           }
          ],
          "scattercarpet": [
           {
            "marker": {
             "colorbar": {
              "outlinewidth": 0,
              "ticks": ""
             }
            },
            "type": "scattercarpet"
           }
          ],
          "scattergeo": [
           {
            "marker": {
             "colorbar": {
              "outlinewidth": 0,
              "ticks": ""
             }
            },
            "type": "scattergeo"
           }
          ],
          "scattergl": [
           {
            "marker": {
             "colorbar": {
              "outlinewidth": 0,
              "ticks": ""
             }
            },
            "type": "scattergl"
           }
          ],
          "scattermap": [
           {
            "marker": {
             "colorbar": {
              "outlinewidth": 0,
              "ticks": ""
             }
            },
            "type": "scattermap"
           }
          ],
          "scattermapbox": [
           {
            "marker": {
             "colorbar": {
              "outlinewidth": 0,
              "ticks": ""
             }
            },
            "type": "scattermapbox"
           }
          ],
          "scatterpolar": [
           {
            "marker": {
             "colorbar": {
              "outlinewidth": 0,
              "ticks": ""
             }
            },
            "type": "scatterpolar"
           }
          ],
          "scatterpolargl": [
           {
            "marker": {
             "colorbar": {
              "outlinewidth": 0,
              "ticks": ""
             }
            },
            "type": "scatterpolargl"
           }
          ],
          "scatterternary": [
           {
            "marker": {
             "colorbar": {
              "outlinewidth": 0,
              "ticks": ""
             }
            },
            "type": "scatterternary"
           }
          ],
          "surface": [
           {
            "colorbar": {
             "outlinewidth": 0,
             "ticks": ""
            },
            "colorscale": [
             [
              0,
              "#0d0887"
             ],
             [
              0.1111111111111111,
              "#46039f"
             ],
             [
              0.2222222222222222,
              "#7201a8"
             ],
             [
              0.3333333333333333,
              "#9c179e"
             ],
             [
              0.4444444444444444,
              "#bd3786"
             ],
             [
              0.5555555555555556,
              "#d8576b"
             ],
             [
              0.6666666666666666,
              "#ed7953"
             ],
             [
              0.7777777777777778,
              "#fb9f3a"
             ],
             [
              0.8888888888888888,
              "#fdca26"
             ],
             [
              1,
              "#f0f921"
             ]
            ],
            "type": "surface"
           }
          ],
          "table": [
           {
            "cells": {
             "fill": {
              "color": "#EBF0F8"
             },
             "line": {
              "color": "white"
             }
            },
            "header": {
             "fill": {
              "color": "#C8D4E3"
             },
             "line": {
              "color": "white"
             }
            },
            "type": "table"
           }
          ]
         },
         "layout": {
          "annotationdefaults": {
           "arrowcolor": "#2a3f5f",
           "arrowhead": 0,
           "arrowwidth": 1
          },
          "autotypenumbers": "strict",
          "coloraxis": {
           "colorbar": {
            "outlinewidth": 0,
            "ticks": ""
           }
          },
          "colorscale": {
           "diverging": [
            [
             0,
             "#8e0152"
            ],
            [
             0.1,
             "#c51b7d"
            ],
            [
             0.2,
             "#de77ae"
            ],
            [
             0.3,
             "#f1b6da"
            ],
            [
             0.4,
             "#fde0ef"
            ],
            [
             0.5,
             "#f7f7f7"
            ],
            [
             0.6,
             "#e6f5d0"
            ],
            [
             0.7,
             "#b8e186"
            ],
            [
             0.8,
             "#7fbc41"
            ],
            [
             0.9,
             "#4d9221"
            ],
            [
             1,
             "#276419"
            ]
           ],
           "sequential": [
            [
             0,
             "#0d0887"
            ],
            [
             0.1111111111111111,
             "#46039f"
            ],
            [
             0.2222222222222222,
             "#7201a8"
            ],
            [
             0.3333333333333333,
             "#9c179e"
            ],
            [
             0.4444444444444444,
             "#bd3786"
            ],
            [
             0.5555555555555556,
             "#d8576b"
            ],
            [
             0.6666666666666666,
             "#ed7953"
            ],
            [
             0.7777777777777778,
             "#fb9f3a"
            ],
            [
             0.8888888888888888,
             "#fdca26"
            ],
            [
             1,
             "#f0f921"
            ]
           ],
           "sequentialminus": [
            [
             0,
             "#0d0887"
            ],
            [
             0.1111111111111111,
             "#46039f"
            ],
            [
             0.2222222222222222,
             "#7201a8"
            ],
            [
             0.3333333333333333,
             "#9c179e"
            ],
            [
             0.4444444444444444,
             "#bd3786"
            ],
            [
             0.5555555555555556,
             "#d8576b"
            ],
            [
             0.6666666666666666,
             "#ed7953"
            ],
            [
             0.7777777777777778,
             "#fb9f3a"
            ],
            [
             0.8888888888888888,
             "#fdca26"
            ],
            [
             1,
             "#f0f921"
            ]
           ]
          },
          "colorway": [
           "#636efa",
           "#EF553B",
           "#00cc96",
           "#ab63fa",
           "#FFA15A",
           "#19d3f3",
           "#FF6692",
           "#B6E880",
           "#FF97FF",
           "#FECB52"
          ],
          "font": {
           "color": "#2a3f5f"
          },
          "geo": {
           "bgcolor": "white",
           "lakecolor": "white",
           "landcolor": "#E5ECF6",
           "showlakes": true,
           "showland": true,
           "subunitcolor": "white"
          },
          "hoverlabel": {
           "align": "left"
          },
          "hovermode": "closest",
          "mapbox": {
           "style": "light"
          },
          "paper_bgcolor": "white",
          "plot_bgcolor": "#E5ECF6",
          "polar": {
           "angularaxis": {
            "gridcolor": "white",
            "linecolor": "white",
            "ticks": ""
           },
           "bgcolor": "#E5ECF6",
           "radialaxis": {
            "gridcolor": "white",
            "linecolor": "white",
            "ticks": ""
           }
          },
          "scene": {
           "xaxis": {
            "backgroundcolor": "#E5ECF6",
            "gridcolor": "white",
            "gridwidth": 2,
            "linecolor": "white",
            "showbackground": true,
            "ticks": "",
            "zerolinecolor": "white"
           },
           "yaxis": {
            "backgroundcolor": "#E5ECF6",
            "gridcolor": "white",
            "gridwidth": 2,
            "linecolor": "white",
            "showbackground": true,
            "ticks": "",
            "zerolinecolor": "white"
           },
           "zaxis": {
            "backgroundcolor": "#E5ECF6",
            "gridcolor": "white",
            "gridwidth": 2,
            "linecolor": "white",
            "showbackground": true,
            "ticks": "",
            "zerolinecolor": "white"
           }
          },
          "shapedefaults": {
           "line": {
            "color": "#2a3f5f"
           }
          },
          "ternary": {
           "aaxis": {
            "gridcolor": "white",
            "linecolor": "white",
            "ticks": ""
           },
           "baxis": {
            "gridcolor": "white",
            "linecolor": "white",
            "ticks": ""
           },
           "bgcolor": "#E5ECF6",
           "caxis": {
            "gridcolor": "white",
            "linecolor": "white",
            "ticks": ""
           }
          },
          "title": {
           "x": 0.05
          },
          "xaxis": {
           "automargin": true,
           "gridcolor": "white",
           "linecolor": "white",
           "ticks": "",
           "title": {
            "standoff": 15
           },
           "zerolinecolor": "white",
           "zerolinewidth": 2
          },
          "yaxis": {
           "automargin": true,
           "gridcolor": "white",
           "linecolor": "white",
           "ticks": "",
           "title": {
            "standoff": 15
           },
           "zerolinecolor": "white",
           "zerolinewidth": 2
          }
         }
        },
        "title": {
         "text": "Training and Validation Loss (Interactive)"
        },
        "xaxis": {
         "title": {
          "text": "Epoch"
         }
        },
        "yaxis": {
         "title": {
          "text": "Loss (log scale)"
         }
        }
       }
      }
     },
     "metadata": {},
     "output_type": "display_data"
    }
   ],
   "source": [
    "import matplotlib.pyplot as plt\n",
    "\n",
    "# Plot training and validation losses\n",
    "plt.figure(figsize=(10, 6))\n",
    "plt.plot(range(1, num_epochs + 1), new_train_losses, label='Training Loss')\n",
    "plt.plot(range(1, num_epochs + 1), new_val_losses, label='Validation Loss')\n",
    "plt.xlabel('Epoch')\n",
    "plt.ylabel('Loss (log scale)')\n",
    "plt.title('Training and Validation Loss')\n",
    "plt.legend()\n",
    "plt.grid()\n",
    "plt.show()\n",
    "\n",
    "# Interactive plot using Plotly\n",
    "import plotly.graph_objects as go\n",
    "\n",
    "fig = go.Figure()\n",
    "\n",
    "fig.add_trace(go.Scatter(\n",
    "    x=list(range(1, num_epochs + 1)),\n",
    "    y=np.log(train_losses),\n",
    "    name='Training Loss',\n",
    "    mode='lines+markers'\n",
    "))\n",
    "\n",
    "fig.add_trace(go.Scatter(\n",
    "    x=list(range(1, num_epochs + 1)),\n",
    "    y=np.log(val_losses),\n",
    "    name='Validation Loss',\n",
    "    mode='lines+markers'\n",
    "))\n",
    "\n",
    "fig.update_layout(\n",
    "    title='Training and Validation Loss (Interactive)',\n",
    "    xaxis_title='Epoch',\n",
    "    yaxis_title='Loss (log scale)',\n",
    "    showlegend=True,\n",
    "    hovermode='x unified'\n",
    ")\n",
    "\n",
    "fig.show()"
   ]
  },
  {
   "cell_type": "code",
   "execution_count": 8,
   "metadata": {},
   "outputs": [
    {
     "name": "stdout",
     "output_type": "stream",
     "text": [
      "Evaluation for PCA_model:\n",
      "              precision    recall  f1-score   support\n",
      "\n",
      "     Class 0       0.92      0.94      0.93       392\n",
      "     Class 1       0.53      0.20      0.29       142\n",
      "     Class 2       0.67      0.89      0.77       245\n",
      "\n",
      "    accuracy                           0.79       779\n",
      "   macro avg       0.71      0.68      0.66       779\n",
      "weighted avg       0.77      0.79      0.76       779\n",
      "\n",
      "\n",
      "Evaluation for model:\n",
      "              precision    recall  f1-score   support\n",
      "\n",
      "     Class 0       0.50      1.00      0.67       392\n",
      "     Class 1       0.00      0.00      0.00       142\n",
      "     Class 2       0.00      0.00      0.00       245\n",
      "\n",
      "    accuracy                           0.50       779\n",
      "   macro avg       0.17      0.33      0.22       779\n",
      "weighted avg       0.25      0.50      0.34       779\n",
      "\n"
     ]
    },
    {
     "name": "stderr",
     "output_type": "stream",
     "text": [
      "/Users/kevinhan/opt/anaconda3/envs/babyRL/lib/python3.8/site-packages/sklearn/metrics/_classification.py:1471: UndefinedMetricWarning: Precision and F-score are ill-defined and being set to 0.0 in labels with no predicted samples. Use `zero_division` parameter to control this behavior.\n",
      "  _warn_prf(average, modifier, msg_start, len(result))\n",
      "/Users/kevinhan/opt/anaconda3/envs/babyRL/lib/python3.8/site-packages/sklearn/metrics/_classification.py:1471: UndefinedMetricWarning: Precision and F-score are ill-defined and being set to 0.0 in labels with no predicted samples. Use `zero_division` parameter to control this behavior.\n",
      "  _warn_prf(average, modifier, msg_start, len(result))\n",
      "/Users/kevinhan/opt/anaconda3/envs/babyRL/lib/python3.8/site-packages/sklearn/metrics/_classification.py:1471: UndefinedMetricWarning: Precision and F-score are ill-defined and being set to 0.0 in labels with no predicted samples. Use `zero_division` parameter to control this behavior.\n",
      "  _warn_prf(average, modifier, msg_start, len(result))\n"
     ]
    }
   ],
   "source": [
    "from sklearn.metrics import classification_report\n",
    "\n",
    "# Function to evaluate a model\n",
    "def evaluate_model(model, data_loader, y_true_tensor):\n",
    "    model.eval()\n",
    "    y_pred = []\n",
    "    with torch.no_grad():\n",
    "        for batch_X, _ in data_loader:\n",
    "            outputs = model(batch_X)\n",
    "            _, predicted = torch.max(outputs, 1)\n",
    "            y_pred.extend(predicted.cpu().numpy())\n",
    "    y_true = y_true_tensor.cpu().numpy()\n",
    "    return classification_report(y_true, y_pred, target_names=['Class 0', 'Class 1', 'Class 2'])\n",
    "\n",
    "# Evaluate PCA_model\n",
    "print(\"Evaluation for PCA_model:\")\n",
    "print(evaluate_model(PCA_model, new_test_loader, y_new_test_tensor))\n",
    "\n",
    "# Evaluate model\n",
    "print(\"\\nEvaluation for model:\")\n",
    "print(evaluate_model(model, test_loader, y_test_tensor))"
   ]
  },
  {
   "cell_type": "code",
   "execution_count": null,
   "metadata": {},
   "outputs": [],
   "source": [
    "# Evaluate the memory capacity of each model\n",
    "import numpy as np\n",
    "import torch\n",
    "from sklearn.decomposition import PCA\n",
    "import psutil\n",
    "import os\n",
    "\n",
    "def get_model_memory_usage(model):\n",
    "    \"\"\"\n",
    "    Calculate the memory usage of a PyTorch model in bytes.\n",
    "    \n",
    "    Args:\n",
    "        model: PyTorch model\n",
    "        \n",
    "    Returns:\n",
    "        int: Memory usage in bytes\n",
    "    \"\"\"\n",
    "    param_size = 0\n",
    "    for param in model.parameters():\n",
    "        param_size += param.nelement() * param.element_size()\n",
    "    buffer_size = 0\n",
    "    for buffer in model.buffers():\n",
    "        buffer_size += buffer.nelement() * buffer.element_size()\n",
    "    \n",
    "    return param_size + buffer_size\n",
    "\n",
    "def get_pca_memory_usage(pca_model):\n",
    "    \"\"\"\n",
    "    Calculate the memory usage of a scikit-learn PCA model in bytes.\n",
    "    \n",
    "    Args:\n",
    "        pca_model: scikit-learn PCA model\n",
    "        \n",
    "    Returns:\n",
    "        int: Memory usage in bytes\n",
    "    \"\"\"\n",
    "    # Get size of components_\n",
    "    components_size = pca_model.components_.nbytes if hasattr(pca_model, 'components_') else 0\n",
    "    \n",
    "    # Get size of explained_variance_\n",
    "    variance_size = pca_model.explained_variance_.nbytes if hasattr(pca_model, 'explained_variance_') else 0\n",
    "    \n",
    "    # Get size of explained_variance_ratio_\n",
    "    ratio_size = pca_model.explained_variance_ratio_.nbytes if hasattr(pca_model, 'explained_variance_ratio_') else 0\n",
    "    \n",
    "    # Get size of mean_\n",
    "    mean_size = pca_model.mean_.nbytes if hasattr(pca_model, 'mean_') else 0\n",
    "    \n",
    "    return components_size + variance_size + ratio_size + mean_size\n",
    "\n",
    "def format_bytes(bytes):\n",
    "    \"\"\"\n",
    "    Format bytes into human readable format.\n",
    "    \n",
    "    Args:\n",
    "        bytes: Number of bytes\n",
    "        \n",
    "    Returns:\n",
    "        str: Formatted string\n",
    "    \"\"\"\n",
    "    for unit in ['B', 'KB', 'MB', 'GB']:\n",
    "        if bytes < 1024.0:\n",
    "            return f\"{bytes:.2f} {unit}\"\n",
    "        bytes /= 1024.0\n",
    "    return f\"{bytes:.2f} TB\"\n",
    "\n",
    "def get_process_memory_usage():\n",
    "    \"\"\"\n",
    "    Get current process memory usage.\n",
    "    \n",
    "    Returns:\n",
    "        int: Memory usage in bytes\n",
    "    \"\"\"\n",
    "    process = psutil.Process(os.getpid())\n",
    "    return process.memory_info().rss\n",
    "\n",
    "def measure_memory_capacity(model, pca_model):\n",
    "    \"\"\"\n",
    "    Measure and print memory capacity of both models.\n",
    "    \n",
    "    Args:\n",
    "        model: PyTorch model\n",
    "        pca_model: scikit-learn PCA model\n",
    "    \"\"\"\n",
    "    # Get initial memory usage\n",
    "    initial_memory = get_process_memory_usage()\n",
    "    \n",
    "    # Calculate model memory usage\n",
    "    model_memory = get_model_memory_usage(model)\n",
    "    pca_memory = get_pca_memory_usage(pca_model)\n",
    "    \n",
    "    # Get final memory usage\n",
    "    final_memory = get_process_memory_usage()\n",
    "    \n",
    "    # Print results\n",
    "    print(\"\\nMemory Capacity Analysis:\")\n",
    "    print(\"-\" * 30)\n",
    "    print(f\"Neural Network Model: {format_bytes(model_memory)}\")\n",
    "    print(f\"PCA Model: {format_bytes(pca_memory)}\")\n",
    "    print(f\"Total Model Memory: {format_bytes(model_memory + pca_memory)}\")\n",
    "    print(f\"Process Memory Usage: {format_bytes(final_memory - initial_memory)}\")\n",
    "    print(\"-\" * 30)\n",
    "\n",
    "# Example usage:\n",
    "if __name__ == \"__main__\":\n",
    "    # Create example models\n",
    "    class SimpleNN(torch.nn.Module):\n",
    "        def __init__(self):\n",
    "            super(SimpleNN, self).__init__()\n",
    "            self.fc1 = torch.nn.Linear(100, 50)\n",
    "            self.fc2 = torch.nn.Linear(50, 10)\n",
    "    \n",
    "    # Initialize models\n",
    "    nn_model = SimpleNN()\n",
    "    pca_model = PCA(n_components=10)\n",
    "    \n",
    "    # Fit PCA with dummy data\n",
    "    dummy_data = np.random.rand(1000, 100)\n",
    "    pca_model.fit(dummy_data)\n",
    "    \n",
    "    # Measure memory capacity\n",
    "    measure_memory_capacity(nn_model, pca_model)"
   ]
  }
 ],
 "metadata": {
  "kernelspec": {
   "display_name": "babyRL",
   "language": "python",
   "name": "python3"
  },
  "language_info": {
   "codemirror_mode": {
    "name": "ipython",
    "version": 3
   },
   "file_extension": ".py",
   "mimetype": "text/x-python",
   "name": "python",
   "nbconvert_exporter": "python",
   "pygments_lexer": "ipython3",
   "version": "3.8.20"
  }
 },
 "nbformat": 4,
 "nbformat_minor": 2
}
