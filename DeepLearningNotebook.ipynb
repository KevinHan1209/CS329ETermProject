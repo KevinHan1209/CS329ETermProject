{
 "cells": [
  {
   "cell_type": "code",
   "execution_count": 1,
   "metadata": {},
   "outputs": [],
   "source": [
    "import numpy as np\n",
    "import torch as th\n",
    "import torch.nn.functional as F\n",
    "import torch.optim as optim\n",
    "import torch.nn as nn\n",
    "import pandas as pd"
   ]
  },
  {
   "cell_type": "code",
   "execution_count": 2,
   "metadata": {},
   "outputs": [
    {
     "name": "stdout",
     "output_type": "stream",
     "text": [
      "Index(['koi_disposition', 'koi_fpflag_nt', 'koi_fpflag_ss', 'koi_fpflag_co',\n",
      "       'koi_fpflag_ec', 'koi_period', 'koi_time0bk', 'koi_time0', 'koi_impact',\n",
      "       'koi_duration', 'koi_depth', 'koi_ror', 'koi_srho', 'koi_prad',\n",
      "       'koi_sma', 'koi_incl', 'koi_teq', 'koi_insol', 'koi_dor',\n",
      "       'koi_max_sngle_ev', 'koi_max_mult_ev', 'koi_model_snr', 'koi_count',\n",
      "       'koi_num_transits', 'koi_tce_plnt_num', 'koi_steff', 'koi_slogg',\n",
      "       'koi_srad', 'koi_smass', 'ra', 'dec', 'koi_kepmag', 'koi_gmag',\n",
      "       'koi_rmag', 'koi_imag', 'koi_zmag', 'koi_jmag', 'koi_hmag', 'koi_kmag'],\n",
      "      dtype='object')\n"
     ]
    }
   ],
   "source": [
    "df = pd.read_csv('koi_data.csv')\n",
    "print(df.columns)"
   ]
  },
  {
   "cell_type": "code",
   "execution_count": 3,
   "metadata": {},
   "outputs": [
    {
     "name": "stdout",
     "output_type": "stream",
     "text": [
      "Training set size: 6228\n",
      "Validation set size: 778\n",
      "Testing set size: 779\n"
     ]
    }
   ],
   "source": [
    "from sklearn.model_selection import train_test_split\n",
    "\n",
    "# Separate predictors and label\n",
    "X = df.drop(columns=['koi_disposition'])\n",
    "y = pd.Series(pd.Categorical(df['koi_disposition'], \n",
    "                           categories=['FALSE POSITIVE', 'CANDIDATE', 'CONFIRMED']).codes)\n",
    "\n",
    "\n",
    "# Split into training and testing sets (80% train, 20% test)\n",
    "X_train, X_temp, y_train, y_temp = train_test_split(X, y, test_size=0.2, random_state=42)\n",
    "\n",
    "# Further split the testing set into validation and testing sets (50% of 20% each)\n",
    "X_val, X_test, y_val, y_test = train_test_split(X_temp, y_temp, test_size=0.5, random_state=42)\n",
    "\n",
    "print(f\"Training set size: {X_train.shape[0]}\")\n",
    "print(f\"Validation set size: {X_val.shape[0]}\")\n",
    "print(f\"Testing set size: {X_test.shape[0]}\")"
   ]
  },
  {
   "cell_type": "code",
   "execution_count": 4,
   "metadata": {},
   "outputs": [],
   "source": [
    "from torch.utils.data import DataLoader, TensorDataset\n",
    "\n",
    "# Convert pandas DataFrames/Series to PyTorch tensors\n",
    "X_train_tensor = th.tensor(X_train.values, dtype=th.float32)\n",
    "y_train_tensor = th.tensor(y_train.values, dtype=th.long)\n",
    "X_val_tensor = th.tensor(X_val.values, dtype=th.float32)\n",
    "y_val_tensor = th.tensor(y_val.values, dtype=th.long)\n",
    "X_test_tensor = th.tensor(X_test.values, dtype=th.float32)\n",
    "y_test_tensor = th.tensor(y_test.values, dtype=th.long)\n",
    "\n",
    "# Create TensorDatasets\n",
    "train_dataset = TensorDataset(X_train_tensor, y_train_tensor)\n",
    "val_dataset = TensorDataset(X_val_tensor, y_val_tensor)\n",
    "test_dataset = TensorDataset(X_test_tensor, y_test_tensor)\n",
    "\n",
    "# Create DataLoaders\n",
    "train_loader = DataLoader(train_dataset, batch_size=32, shuffle=True)\n",
    "val_loader = DataLoader(val_dataset, batch_size=32, shuffle=False)\n",
    "test_loader = DataLoader(test_dataset, batch_size=32, shuffle=False)\n"
   ]
  },
  {
   "cell_type": "code",
   "execution_count": 5,
   "metadata": {},
   "outputs": [
    {
     "name": "stdout",
     "output_type": "stream",
     "text": [
      "Epoch 1/30\n",
      "Train Loss: 7008.9152\n",
      "Validation Loss: 46.1613\n",
      "Validation Accuracy: 31.75%\n",
      "Epoch 2/30\n",
      "Train Loss: 618.2007\n",
      "Validation Loss: 6.7669\n",
      "Validation Accuracy: 44.73%\n",
      "Epoch 3/30\n",
      "Train Loss: 101.6274\n",
      "Validation Loss: 1.1405\n",
      "Validation Accuracy: 42.80%\n",
      "Epoch 4/30\n",
      "Train Loss: 1.9714\n",
      "Validation Loss: 0.9602\n",
      "Validation Accuracy: 45.50%\n",
      "Epoch 5/30\n",
      "Train Loss: 1.2824\n",
      "Validation Loss: 0.9762\n",
      "Validation Accuracy: 45.50%\n",
      "Epoch 6/30\n",
      "Train Loss: 1.2649\n",
      "Validation Loss: 0.9784\n",
      "Validation Accuracy: 45.50%\n",
      "Epoch 7/30\n",
      "Train Loss: 1.2892\n",
      "Validation Loss: 0.9800\n",
      "Validation Accuracy: 45.50%\n",
      "Epoch 8/30\n",
      "Train Loss: 1.0943\n",
      "Validation Loss: 0.9822\n",
      "Validation Accuracy: 45.50%\n",
      "Epoch 9/30\n",
      "Train Loss: 1.0720\n",
      "Validation Loss: 0.9838\n",
      "Validation Accuracy: 45.50%\n",
      "Epoch 10/30\n",
      "Train Loss: 1.0396\n",
      "Validation Loss: 0.9807\n",
      "Validation Accuracy: 45.50%\n",
      "Epoch 11/30\n",
      "Train Loss: 0.9747\n",
      "Validation Loss: 0.9721\n",
      "Validation Accuracy: 45.50%\n",
      "Epoch 12/30\n",
      "Train Loss: 1.0473\n",
      "Validation Loss: 0.9723\n",
      "Validation Accuracy: 45.50%\n",
      "Epoch 13/30\n",
      "Train Loss: 1.0142\n",
      "Validation Loss: 0.9805\n",
      "Validation Accuracy: 45.50%\n",
      "Epoch 14/30\n",
      "Train Loss: 0.9812\n",
      "Validation Loss: 0.9859\n",
      "Validation Accuracy: 45.50%\n",
      "Epoch 15/30\n",
      "Train Loss: 0.9838\n",
      "Validation Loss: 0.9678\n",
      "Validation Accuracy: 45.50%\n",
      "Epoch 16/30\n",
      "Train Loss: 0.9794\n",
      "Validation Loss: 0.9685\n",
      "Validation Accuracy: 45.50%\n",
      "Epoch 17/30\n",
      "Train Loss: 0.9897\n",
      "Validation Loss: 0.9925\n",
      "Validation Accuracy: 45.50%\n",
      "Epoch 18/30\n",
      "Train Loss: 0.9680\n",
      "Validation Loss: 0.9635\n",
      "Validation Accuracy: 45.50%\n",
      "Epoch 19/30\n",
      "Train Loss: 1.0010\n",
      "Validation Loss: 0.9780\n",
      "Validation Accuracy: 45.50%\n",
      "Epoch 20/30\n",
      "Train Loss: 0.9792\n",
      "Validation Loss: 0.9799\n",
      "Validation Accuracy: 45.50%\n",
      "Epoch 21/30\n",
      "Train Loss: 0.9779\n",
      "Validation Loss: 0.9950\n",
      "Validation Accuracy: 45.50%\n",
      "Epoch 22/30\n",
      "Train Loss: 0.9778\n",
      "Validation Loss: 0.9807\n",
      "Validation Accuracy: 45.50%\n",
      "Epoch 23/30\n",
      "Train Loss: 0.9860\n",
      "Validation Loss: 0.9968\n",
      "Validation Accuracy: 45.50%\n",
      "Epoch 24/30\n",
      "Train Loss: 0.9854\n",
      "Validation Loss: 0.9915\n",
      "Validation Accuracy: 45.50%\n",
      "Epoch 25/30\n",
      "Train Loss: 0.9764\n",
      "Validation Loss: 1.0039\n",
      "Validation Accuracy: 45.50%\n",
      "Epoch 26/30\n",
      "Train Loss: 0.9814\n",
      "Validation Loss: 0.9992\n",
      "Validation Accuracy: 45.50%\n",
      "Epoch 27/30\n",
      "Train Loss: 0.9959\n",
      "Validation Loss: 0.9973\n",
      "Validation Accuracy: 45.50%\n",
      "Epoch 28/30\n",
      "Train Loss: 0.9684\n",
      "Validation Loss: 0.9862\n",
      "Validation Accuracy: 45.50%\n",
      "Epoch 29/30\n",
      "Train Loss: 0.9766\n",
      "Validation Loss: 1.0105\n",
      "Validation Accuracy: 45.50%\n",
      "Epoch 30/30\n",
      "Train Loss: 0.9857\n",
      "Validation Loss: 1.0027\n",
      "Validation Accuracy: 45.50%\n"
     ]
    },
    {
     "data": {
      "image/png": "[encoded data removed]",
      "text/plain": [
       "<Figure size 1000x600 with 1 Axes>"
      ]
     },
     "metadata": {},
     "output_type": "display_data"
    },
    {
     "name": "stdout",
     "output_type": "stream",
     "text": [
      "Test Loss: 1.1255\n",
      "Test Accuracy: 50.32%\n"
     ]
    },
    {
     "data": {
      "application/vnd.plotly.v1+json": {
       "config": {
        "plotlyServerURL": "https://plot.ly"
       },
       "data": [
        {
         "mode": "lines+markers",
         "name": "Training Loss",
         "type": "scatter",
         "x": [
          1,
          2,
          3,
          4,
          5,
          6,
          7,
          8,
          9,
          10,
          11,
          12,
          13,
          14,
          15,
          16,
          17,
          18,
          19,
          20,
          21,
          22,
          23,
          24,
          25,
          26,
          27,
          28,
          29,
          30
         ],
         "y": {
          "bdata": "YgIodrq1IUB3U7p/DrUZQF3mGaI5fBJAYrjYmhW45T84dYfYLNbPP18Kb/FfE84/7QgtQpRB0D8fqaugIhK3P1Up2Zr2y7E/6G/NLLDmoz+ObkSY+0mav34xNZbPpac/yD2x8lDzjD8RVZQjqGqTv5XPHib7vpC/kw4Fb/JSlb+9OKc1ODGFv/pI1lUyoKC/VgyOOeYHUD/Dg1+dsY2Vv1cILcmz7Ja/ea00X7wGl7/3BRP8A8uMv8uZehiGNI6/TFgCbx5wmL+M23iUqkWTvy1NWiueq3C/BeD3a7BzoL+iAgRox0uYv+nlFyusmY2/",
          "dtype": "f8"
         }
        },
        {
         "mode": "lines+markers",
         "name": "Validation Loss",
         "type": "scatter",
         "x": [
          1,
          2,
          3,
          4,
          5,
          6,
          7,
          8,
          9,
          10,
          11,
          12,
          13,
          14,
          15,
          16,
          17,
          18,
          19,
          20,
          21,
          22,
          23,
          24,
          25,
          26,
          27,
          28,
          29,
          30
         ],
         "y": {
          "bdata": "0CYmjzmoDkCdo9Tes5f+P/IiKzVl08A/yvurfJTOpL/LTwSEjq2Yv7eZm3aLYJa/8KRAFIW1lL8LUfqIml2Sv0cGLKDJw5C/lAWainv5k79xYHdTv/Kcv4KkK2x3t5y/j6M8HAk3lL872N6qfi6Nv/2dnX8Ix6C/nbXoWFpgoL9zWl4828J+v3szP1JdBKO/YDS71zrRlr9/+tcbD82Uv67GdsH/YnS/PWRzDN3zk79wiMDdUYRqvyaT6VxKg4G/OmWcbPGobz/h/DlWkq1LvxeYX3Vp1WW/gzGGH+VyjL/5TC0nl3eFP+iIiL4StmU/",
          "dtype": "f8"
         }
        }
       ],
       "layout": {
        "hovermode": "x unified",
        "showlegend": true,
        "template": {
         "data": {
          "bar": [
           {
            "error_x": {
             "color": "#2a3f5f"
            },
            "error_y": {
             "color": "#2a3f5f"
            },
            "marker": {
             "line": {
              "color": "#E5ECF6",
              "width": 0.5
             },
             "pattern": {
              "fillmode": "overlay",
              "size": 10,
              "solidity": 0.2
             }
            },
            "type": "bar"
           }
          ],
          "barpolar": [
           {
            "marker": {
             "line": {
              "color": "#E5ECF6",
              "width": 0.5
             },
             "pattern": {
              "fillmode": "overlay",
              "size": 10,
              "solidity": 0.2
             }
            },
            "type": "barpolar"
           }
          ],
          "carpet": [
           {
            "aaxis": {
             "endlinecolor": "#2a3f5f",
             "gridcolor": "white",
             "linecolor": "white",
             "minorgridcolor": "white",
             "startlinecolor": "#2a3f5f"
            },
            "baxis": {
             "endlinecolor": "#2a3f5f",
             "gridcolor": "white",
             "linecolor": "white",
             "minorgridcolor": "white",
             "startlinecolor": "#2a3f5f"
            },
            "type": "carpet"
           }
          ],
          "choropleth": [
           {
            "colorbar": {
             "outlinewidth": 0,
             "ticks": ""
            },
            "type": "choropleth"
           }
          ],
          "contour": [
           {
            "colorbar": {
             "outlinewidth": 0,
             "ticks": ""
            },
            "colorscale": [
             [
              0,
              "#0d0887"
             ],
             [
              0.1111111111111111,
              "#46039f"
             ],
             [
              0.2222222222222222,
              "#7201a8"
             ],
             [
              0.3333333333333333,
              "#9c179e"
             ],
             [
              0.4444444444444444,
              "#bd3786"
             ],
             [
              0.5555555555555556,
              "#d8576b"
             ],
             [
              0.6666666666666666,
              "#ed7953"
             ],
             [
              0.7777777777777778,
              "#fb9f3a"
             ],
             [
              0.8888888888888888,
              "#fdca26"
             ],
             [
              1,
              "#f0f921"
             ]
            ],
            "type": "contour"
           }
          ],
          "contourcarpet": [
           {
            "colorbar": {
             "outlinewidth": 0,
             "ticks": ""
            },
            "type": "contourcarpet"
           }
          ],
          "heatmap": [
           {
            "colorbar": {
             "outlinewidth": 0,
             "ticks": ""
            },
            "colorscale": [
             [
              0,
              "#0d0887"
             ],
             [
              0.1111111111111111,
              "#46039f"
             ],
             [
              0.2222222222222222,
              "#7201a8"
             ],
             [
              0.3333333333333333,
              "#9c179e"
             ],
             [
              0.4444444444444444,
              "#bd3786"
             ],
             [
              0.5555555555555556,
              "#d8576b"
             ],
             [
              0.6666666666666666,
              "#ed7953"
             ],
             [
              0.7777777777777778,
              "#fb9f3a"
             ],
             [
              0.8888888888888888,
              "#fdca26"
             ],
             [
              1,
              "#f0f921"
             ]
            ],
            "type": "heatmap"
           }
          ],
          "histogram": [
           {
            "marker": {
             "pattern": {
              "fillmode": "overlay",
              "size": 10,
              "solidity": 0.2
             }
            },
            "type": "histogram"
           }
          ],
          "histogram2d": [
           {
            "colorbar": {
             "outlinewidth": 0,
             "ticks": ""
            },
            "colorscale": [
             [
              0,
              "#0d0887"
             ],
             [
              0.1111111111111111,
              "#46039f"
             ],
             [
              0.2222222222222222,
              "#7201a8"
             ],
             [
              0.3333333333333333,
              "#9c179e"
             ],
             [
              0.4444444444444444,
              "#bd3786"
             ],
             [
              0.5555555555555556,
              "#d8576b"
             ],
             [
              0.6666666666666666,
              "#ed7953"
             ],
             [
              0.7777777777777778,
              "#fb9f3a"
             ],
             [
              0.8888888888888888,
              "#fdca26"
             ],
             [
              1,
              "#f0f921"
             ]
            ],
            "type": "histogram2d"
           }
          ],
          "histogram2dcontour": [
           {
            "colorbar": {
             "outlinewidth": 0,
             "ticks": ""
            },
            "colorscale": [
             [
              0,
              "#0d0887"
             ],
             [
              0.1111111111111111,
              "#46039f"
             ],
             [
              0.2222222222222222,
              "#7201a8"
             ],
             [
              0.3333333333333333,
              "#9c179e"
             ],
             [
              0.4444444444444444,
              "#bd3786"
             ],
             [
              0.5555555555555556,
              "#d8576b"
             ],
             [
              0.6666666666666666,
              "#ed7953"
             ],
             [
              0.7777777777777778,
              "#fb9f3a"
             ],
             [
              0.8888888888888888,
              "#fdca26"
             ],
             [
              1,
              "#f0f921"
             ]
            ],
            "type": "histogram2dcontour"
           }
          ],
          "mesh3d": [
           {
            "colorbar": {
             "outlinewidth": 0,
             "ticks": ""
            },
            "type": "mesh3d"
           }
          ],
          "parcoords": [
           {
            "line": {
             "colorbar": {
              "outlinewidth": 0,
              "ticks": ""
             }
            },
            "type": "parcoords"
           }
          ],
          "pie": [
           {
            "automargin": true,
            "type": "pie"
           }
          ],
          "scatter": [
           {
            "fillpattern": {
             "fillmode": "overlay",
             "size": 10,
             "solidity": 0.2
            },
            "type": "scatter"
           }
          ],
          "scatter3d": [
           {
            "line": {
             "colorbar": {
              "outlinewidth": 0,
              "ticks": ""
             }
            },
            "marker": {
             "colorbar": {
              "outlinewidth": 0,
              "ticks": ""
             }
            },
            "type": "scatter3d"
           }
          ],
          "scattercarpet": [
           {
            "marker": {
             "colorbar": {
              "outlinewidth": 0,
              "ticks": ""
             }
            },
            "type": "scattercarpet"
           }
          ],
          "scattergeo": [
           {
            "marker": {
             "colorbar": {
              "outlinewidth": 0,
              "ticks": ""
             }
            },
            "type": "scattergeo"
           }
          ],
          "scattergl": [
           {
            "marker": {
             "colorbar": {
              "outlinewidth": 0,
              "ticks": ""
             }
            },
            "type": "scattergl"
           }
          ],
          "scattermap": [
           {
            "marker": {
             "colorbar": {
              "outlinewidth": 0,
              "ticks": ""
             }
            },
            "type": "scattermap"
           }
          ],
          "scattermapbox": [
           {
            "marker": {
             "colorbar": {
              "outlinewidth": 0,
              "ticks": ""
             }
            },
            "type": "scattermapbox"
           }
          ],
          "scatterpolar": [
           {
            "marker": {
             "colorbar": {
              "outlinewidth": 0,
              "ticks": ""
             }
            },
            "type": "scatterpolar"
           }
          ],
          "scatterpolargl": [
           {
            "marker": {
             "colorbar": {
              "outlinewidth": 0,
              "ticks": ""
             }
            },
            "type": "scatterpolargl"
           }
          ],
          "scatterternary": [
           {
            "marker": {
             "colorbar": {
              "outlinewidth": 0,
              "ticks": ""
             }
            },
            "type": "scatterternary"
           }
          ],
          "surface": [
           {
            "colorbar": {
             "outlinewidth": 0,
             "ticks": ""
            },
            "colorscale": [
             [
              0,
              "#0d0887"
             ],
             [
              0.1111111111111111,
              "#46039f"
             ],
             [
              0.2222222222222222,
              "#7201a8"
             ],
             [
              0.3333333333333333,
              "#9c179e"
             ],
             [
              0.4444444444444444,
              "#bd3786"
             ],
             [
              0.5555555555555556,
              "#d8576b"
             ],
             [
              0.6666666666666666,
              "#ed7953"
             ],
             [
              0.7777777777777778,
              "#fb9f3a"
             ],
             [
              0.8888888888888888,
              "#fdca26"
             ],
             [
              1,
              "#f0f921"
             ]
            ],
            "type": "surface"
           }
          ],
          "table": [
           {
            "cells": {
             "fill": {
              "color": "#EBF0F8"
             },
             "line": {
              "color": "white"
             }
            },
            "header": {
             "fill": {
              "color": "#C8D4E3"
             },
             "line": {
              "color": "white"
             }
            },
            "type": "table"
           }
          ]
         },
         "layout": {
          "annotationdefaults": {
           "arrowcolor": "#2a3f5f",
           "arrowhead": 0,
           "arrowwidth": 1
          },
          "autotypenumbers": "strict",
          "coloraxis": {
           "colorbar": {
            "outlinewidth": 0,
            "ticks": ""
           }
          },
          "colorscale": {
           "diverging": [
            [
             0,
             "#8e0152"
            ],
            [
             0.1,
             "#c51b7d"
            ],
            [
             0.2,
             "#de77ae"
            ],
            [
             0.3,
             "#f1b6da"
            ],
            [
             0.4,
             "#fde0ef"
            ],
            [
             0.5,
             "#f7f7f7"
            ],
            [
             0.6,
             "#e6f5d0"
            ],
            [
             0.7,
             "#b8e186"
            ],
            [
             0.8,
             "#7fbc41"
            ],
            [
             0.9,
             "#4d9221"
            ],
            [
             1,
             "#276419"
            ]
           ],
           "sequential": [
            [
             0,
             "#0d0887"
            ],
            [
             0.1111111111111111,
             "#46039f"
            ],
            [
             0.2222222222222222,
             "#7201a8"
            ],
            [
             0.3333333333333333,
             "#9c179e"
            ],
            [
             0.4444444444444444,
             "#bd3786"
            ],
            [
             0.5555555555555556,
             "#d8576b"
            ],
            [
             0.6666666666666666,
             "#ed7953"
            ],
            [
             0.7777777777777778,
             "#fb9f3a"
            ],
            [
             0.8888888888888888,
             "#fdca26"
            ],
            [
             1,
             "#f0f921"
            ]
           ],
           "sequentialminus": [
            [
             0,
             "#0d0887"
            ],
            [
             0.1111111111111111,
             "#46039f"
            ],
            [
             0.2222222222222222,
             "#7201a8"
            ],
            [
             0.3333333333333333,
             "#9c179e"
            ],
            [
             0.4444444444444444,
             "#bd3786"
            ],
            [
             0.5555555555555556,
             "#d8576b"
            ],
            [
             0.6666666666666666,
             "#ed7953"
            ],
            [
             0.7777777777777778,
             "#fb9f3a"
            ],
            [
             0.8888888888888888,
             "#fdca26"
            ],
            [
             1,
             "#f0f921"
            ]
           ]
          },
          "colorway": [
           "#636efa",
           "#EF553B",
           "#00cc96",
           "#ab63fa",
           "#FFA15A",
           "#19d3f3",
           "#FF6692",
           "#B6E880",
           "#FF97FF",
           "#FECB52"
          ],
          "font": {
           "color": "#2a3f5f"
          },
          "geo": {
           "bgcolor": "white",
           "lakecolor": "white",
           "landcolor": "#E5ECF6",
           "showlakes": true,
           "showland": true,
           "subunitcolor": "white"
          },
          "hoverlabel": {
           "align": "left"
          },
          "hovermode": "closest",
          "mapbox": {
           "style": "light"
          },
          "paper_bgcolor": "white",
          "plot_bgcolor": "#E5ECF6",
          "polar": {
           "angularaxis": {
            "gridcolor": "white",
            "linecolor": "white",
            "ticks": ""
           },
           "bgcolor": "#E5ECF6",
           "radialaxis": {
            "gridcolor": "white",
            "linecolor": "white",
            "ticks": ""
           }
          },
          "scene": {
           "xaxis": {
            "backgroundcolor": "#E5ECF6",
            "gridcolor": "white",
            "gridwidth": 2,
            "linecolor": "white",
            "showbackground": true,
            "ticks": "",
            "zerolinecolor": "white"
           },
           "yaxis": {
            "backgroundcolor": "#E5ECF6",
            "gridcolor": "white",
            "gridwidth": 2,
            "linecolor": "white",
            "showbackground": true,
            "ticks": "",
            "zerolinecolor": "white"
           },
           "zaxis": {
            "backgroundcolor": "#E5ECF6",
            "gridcolor": "white",
            "gridwidth": 2,
            "linecolor": "white",
            "showbackground": true,
            "ticks": "",
            "zerolinecolor": "white"
           }
          },
          "shapedefaults": {
           "line": {
            "color": "#2a3f5f"
           }
          },
          "ternary": {
           "aaxis": {
            "gridcolor": "white",
            "linecolor": "white",
            "ticks": ""
           },
           "baxis": {
            "gridcolor": "white",
            "linecolor": "white",
            "ticks": ""
           },
           "bgcolor": "#E5ECF6",
           "caxis": {
            "gridcolor": "white",
            "linecolor": "white",
            "ticks": ""
           }
          },
          "title": {
           "x": 0.05
          },
          "xaxis": {
           "automargin": true,
           "gridcolor": "white",
           "linecolor": "white",
           "ticks": "",
           "title": {
            "standoff": 15
           },
           "zerolinecolor": "white",
           "zerolinewidth": 2
          },
          "yaxis": {
           "automargin": true,
           "gridcolor": "white",
           "linecolor": "white",
           "ticks": "",
           "title": {
            "standoff": 15
           },
           "zerolinecolor": "white",
           "zerolinewidth": 2
          }
         }
        },
        "title": {
         "text": "Training and Validation Loss (Interactive)"
        },
        "xaxis": {
         "title": {
          "text": "Epoch"
         }
        },
        "yaxis": {
         "title": {
          "text": "Loss (log scale)"
         }
        }
       }
      }
     },
     "metadata": {},
     "output_type": "display_data"
    }
   ],
   "source": [
    "import torch\n",
    "import torch.nn as nn\n",
    "import torch.optim as optim\n",
    "from NeuralNet import FeedForwardNN  # Import the FeedForwardNN class\n",
    "from torch.utils.data import DataLoader, TensorDataset\n",
    "import matplotlib.pyplot as plt\n",
    "\n",
    "# Define the model\n",
    "input_size = X_train.shape[1]  # Number of features\n",
    "hidden_sizes = [32, 64, 128]  # Hidden layer sizes\n",
    "model = FeedForwardNN(input_size=input_size, hidden_sizes=hidden_sizes)\n",
    "\n",
    "# Define the loss function and optimizer\n",
    "criterion = nn.CrossEntropyLoss()  # For multi-class classification\n",
    "optimizer = optim.Adam(model.parameters(), lr=0.001)\n",
    "\n",
    "# Initialize lists to log losses\n",
    "train_losses = []\n",
    "val_losses = []\n",
    "\n",
    "# Training loop\n",
    "num_epochs = 30\n",
    "for epoch in range(num_epochs):\n",
    "    # Training phase\n",
    "    model.train()\n",
    "    train_loss = 0\n",
    "    for batch_X, batch_y in train_loader:\n",
    "        optimizer.zero_grad()\n",
    "        outputs = model(batch_X)\n",
    "        loss = criterion(outputs, batch_y)\n",
    "        loss.backward()\n",
    "        optimizer.step()\n",
    "        train_loss += loss.item()\n",
    "\n",
    "    # Validation phase\n",
    "    model.eval()\n",
    "    val_loss = 0\n",
    "    correct = 0\n",
    "    total = 0\n",
    "    with torch.no_grad():\n",
    "        for batch_X, batch_y in val_loader:\n",
    "            outputs = model(batch_X)\n",
    "            loss = criterion(outputs, batch_y)\n",
    "            val_loss += loss.item()\n",
    "            _, predicted = torch.max(outputs, 1)\n",
    "            total += batch_y.size(0)\n",
    "            correct += (predicted == batch_y).sum().item()\n",
    "\n",
    "    # Log losses\n",
    "    train_losses.append(train_loss / len(train_loader))\n",
    "    val_losses.append(val_loss / len(val_loader))\n",
    "\n",
    "    # Print epoch results\n",
    "    print(f\"Epoch {epoch+1}/{num_epochs}\")\n",
    "    print(f\"Train Loss: {train_losses[-1]:.4f}\")\n",
    "    print(f\"Validation Loss: {val_losses[-1]:.4f}\")\n",
    "    print(f\"Validation Accuracy: {100 * correct / total:.2f}%\")\n",
    "\n",
    "# Plot training and validation losses\n",
    "plt.figure(figsize=(10, 6))\n",
    "plt.plot(range(1, num_epochs + 1), np.log(train_losses), label='Training Loss')\n",
    "plt.plot(range(1, num_epochs + 1), np.log(val_losses), label='Validation Loss')\n",
    "plt.xlabel('Epoch')\n",
    "plt.ylabel('Loss (log scale)')\n",
    "plt.title('Training and Validation Loss')\n",
    "plt.legend()\n",
    "plt.grid()\n",
    "plt.show()\n",
    "\n",
    "# Testing phase\n",
    "model.eval()\n",
    "test_loss = 0\n",
    "correct = 0\n",
    "total = 0\n",
    "with torch.no_grad():\n",
    "    for batch_X, batch_y in test_loader:\n",
    "        outputs = model(batch_X)\n",
    "        loss = criterion(outputs, batch_y)\n",
    "        test_loss += loss.item()\n",
    "        _, predicted = torch.max(outputs, 1)\n",
    "        total += batch_y.size(0)\n",
    "        correct += (predicted == batch_y).sum().item()\n",
    "\n",
    "print(f\"Test Loss: {test_loss / len(test_loader):.4f}\")\n",
    "print(f\"Test Accuracy: {100 * correct / total:.2f}%\")\n",
    "\n",
    "# Interactive plot using Plotly\n",
    "import plotly.graph_objects as go\n",
    "\n",
    "fig = go.Figure()\n",
    "\n",
    "fig.add_trace(go.Scatter(\n",
    "    x=list(range(1, num_epochs + 1)),\n",
    "    y=np.log(train_losses),\n",
    "    name='Training Loss',\n",
    "    mode='lines+markers'\n",
    "))\n",
    "\n",
    "fig.add_trace(go.Scatter(\n",
    "    x=list(range(1, num_epochs + 1)),\n",
    "    y=np.log(val_losses),\n",
    "    name='Validation Loss',\n",
    "    mode='lines+markers'\n",
    "))\n",
    "\n",
    "fig.update_layout(\n",
    "    title='Training and Validation Loss (Interactive)',\n",
    "    xaxis_title='Epoch',\n",
    "    yaxis_title='Loss (log scale)',\n",
    "    showlegend=True,\n",
    "    hovermode='x unified'\n",
    ")\n",
    "\n",
    "fig.show()"
   ]
  },
  {
   "cell_type": "markdown",
   "metadata": {},
   "source": [
    "### Now with PCA"
   ]
  },
  {
   "cell_type": "code",
   "execution_count": 6,
   "metadata": {},
   "outputs": [
    {
     "name": "stdout",
     "output_type": "stream",
     "text": [
      "Epoch 1/30\n",
      "Train Loss: 0.7597\n",
      "Validation Loss: 0.5589\n",
      "Validation Accuracy: 74.94%\n",
      "Epoch 2/30\n",
      "Train Loss: 0.5762\n",
      "Validation Loss: 0.5310\n",
      "Validation Accuracy: 75.96%\n",
      "Epoch 3/30\n",
      "Train Loss: 0.5487\n",
      "Validation Loss: 0.5256\n",
      "Validation Accuracy: 75.19%\n",
      "Epoch 4/30\n",
      "Train Loss: 0.5343\n",
      "Validation Loss: 0.5114\n",
      "Validation Accuracy: 76.74%\n",
      "Epoch 5/30\n",
      "Train Loss: 0.5274\n",
      "Validation Loss: 0.5064\n",
      "Validation Accuracy: 77.25%\n",
      "Epoch 6/30\n",
      "Train Loss: 0.5127\n",
      "Validation Loss: 0.5079\n",
      "Validation Accuracy: 76.48%\n",
      "Epoch 7/30\n",
      "Train Loss: 0.5090\n",
      "Validation Loss: 0.5026\n",
      "Validation Accuracy: 76.74%\n",
      "Epoch 8/30\n",
      "Train Loss: 0.5018\n",
      "Validation Loss: 0.4976\n",
      "Validation Accuracy: 77.38%\n",
      "Epoch 9/30\n",
      "Train Loss: 0.4911\n",
      "Validation Loss: 0.4873\n",
      "Validation Accuracy: 77.89%\n",
      "Epoch 10/30\n",
      "Train Loss: 0.4953\n",
      "Validation Loss: 0.4897\n",
      "Validation Accuracy: 78.02%\n",
      "Epoch 11/30\n",
      "Train Loss: 0.4861\n",
      "Validation Loss: 0.4757\n",
      "Validation Accuracy: 78.66%\n",
      "Epoch 12/30\n",
      "Train Loss: 0.4897\n",
      "Validation Loss: 0.4760\n",
      "Validation Accuracy: 78.02%\n",
      "Epoch 13/30\n",
      "Train Loss: 0.4797\n",
      "Validation Loss: 0.4679\n",
      "Validation Accuracy: 77.89%\n",
      "Epoch 14/30\n",
      "Train Loss: 0.4786\n",
      "Validation Loss: 0.4684\n",
      "Validation Accuracy: 78.02%\n",
      "Epoch 15/30\n",
      "Train Loss: 0.4763\n",
      "Validation Loss: 0.4808\n",
      "Validation Accuracy: 78.02%\n",
      "Epoch 16/30\n",
      "Train Loss: 0.4744\n",
      "Validation Loss: 0.4729\n",
      "Validation Accuracy: 78.41%\n",
      "Epoch 17/30\n",
      "Train Loss: 0.4790\n",
      "Validation Loss: 0.4645\n",
      "Validation Accuracy: 77.76%\n",
      "Epoch 18/30\n",
      "Train Loss: 0.4738\n",
      "Validation Loss: 0.4671\n",
      "Validation Accuracy: 77.89%\n",
      "Epoch 19/30\n",
      "Train Loss: 0.4738\n",
      "Validation Loss: 0.4611\n",
      "Validation Accuracy: 77.89%\n",
      "Epoch 20/30\n",
      "Train Loss: 0.4731\n",
      "Validation Loss: 0.4663\n",
      "Validation Accuracy: 77.89%\n",
      "Epoch 21/30\n",
      "Train Loss: 0.4670\n",
      "Validation Loss: 0.4749\n",
      "Validation Accuracy: 78.66%\n",
      "Epoch 22/30\n",
      "Train Loss: 0.4688\n",
      "Validation Loss: 0.4607\n",
      "Validation Accuracy: 78.02%\n",
      "Epoch 23/30\n",
      "Train Loss: 0.4649\n",
      "Validation Loss: 0.4598\n",
      "Validation Accuracy: 78.66%\n",
      "Epoch 24/30\n",
      "Train Loss: 0.4675\n",
      "Validation Loss: 0.4660\n",
      "Validation Accuracy: 77.89%\n",
      "Epoch 25/30\n",
      "Train Loss: 0.4596\n",
      "Validation Loss: 0.4647\n",
      "Validation Accuracy: 77.51%\n",
      "Epoch 26/30\n",
      "Train Loss: 0.4659\n",
      "Validation Loss: 0.4598\n",
      "Validation Accuracy: 77.89%\n",
      "Epoch 27/30\n",
      "Train Loss: 0.4579\n",
      "Validation Loss: 0.4672\n",
      "Validation Accuracy: 78.02%\n",
      "Epoch 28/30\n",
      "Train Loss: 0.4606\n",
      "Validation Loss: 0.4539\n",
      "Validation Accuracy: 78.28%\n",
      "Epoch 29/30\n",
      "Train Loss: 0.4538\n",
      "Validation Loss: 0.4512\n",
      "Validation Accuracy: 78.41%\n",
      "Epoch 30/30\n",
      "Train Loss: 0.4612\n",
      "Validation Loss: 0.4522\n",
      "Validation Accuracy: 78.92%\n",
      "\n",
      "Test Loss: 0.4765\n",
      "Test Accuracy: 78.31%\n"
     ]
    }
   ],
   "source": [
    "# Load the new dataframe\n",
    "new_df = pd.read_csv('new_dataframe.csv')\n",
    "\n",
    "# Separate predictors and label\n",
    "X_new = new_df.drop(columns=['koi_disposition'])\n",
    "y_new = new_df['koi_disposition']\n",
    "\n",
    "# Split into training and testing sets (80% train, 20% test)\n",
    "X_new_train, X_new_temp, y_new_train, y_new_temp = train_test_split(X_new, y_new, test_size=0.2, random_state=42)\n",
    "\n",
    "# Further split the testing set into validation and testing sets (50% of 20% each)\n",
    "X_new_val, X_new_test, y_new_val, y_new_test = train_test_split(X_new_temp, y_new_temp, test_size=0.5, random_state=42)\n",
    "\n",
    "# Convert pandas DataFrames/Series to PyTorch tensors\n",
    "X_new_train_tensor = th.tensor(X_new_train.values, dtype=th.float32)\n",
    "y_new_train_tensor = th.tensor(y_new_train.values, dtype=th.long)\n",
    "X_new_val_tensor = th.tensor(X_new_val.values, dtype=th.float32)\n",
    "y_new_val_tensor = th.tensor(y_new_val.values, dtype=th.long)\n",
    "X_new_test_tensor = th.tensor(X_new_test.values, dtype=th.float32)\n",
    "y_new_test_tensor = th.tensor(y_new_test.values, dtype=th.long)\n",
    "\n",
    "# Create TensorDatasets\n",
    "new_train_dataset = TensorDataset(X_new_train_tensor, y_new_train_tensor)\n",
    "new_val_dataset = TensorDataset(X_new_val_tensor, y_new_val_tensor)\n",
    "new_test_dataset = TensorDataset(X_new_test_tensor, y_new_test_tensor)\n",
    "\n",
    "# Create DataLoaders\n",
    "new_train_loader = DataLoader(new_train_dataset, batch_size=32, shuffle=True)\n",
    "new_val_loader = DataLoader(new_val_dataset, batch_size=32, shuffle=False)\n",
    "new_test_loader = DataLoader(new_test_dataset, batch_size=32, shuffle=False)\n",
    "\n",
    "# Define the model\n",
    "new_input_size = X_new_train.shape[1]  # Number of features\n",
    "PCA_model = FeedForwardNN(input_size=new_input_size, hidden_sizes=hidden_sizes)\n",
    "\n",
    "# Define the loss function and optimizer\n",
    "new_criterion = nn.CrossEntropyLoss()\n",
    "new_optimizer = optim.Adam(PCA_model.parameters(), lr=0.001, weight_decay = 1e-5)\n",
    "\n",
    "# Define a learning rate scheduler\n",
    "scheduler = optim.lr_scheduler.StepLR(new_optimizer, step_size=50, gamma=0.1)\n",
    "\n",
    "# Initialize lists to log losses\n",
    "new_train_losses = []\n",
    "new_val_losses = []\n",
    "\n",
    "# New number of epochs\n",
    "num_epochs = 30\n",
    "\n",
    "# Training loop\n",
    "for epoch in range(num_epochs):\n",
    "    # Training phase\n",
    "    PCA_model.train()\n",
    "    new_train_loss = 0\n",
    "    for batch_X, batch_y in new_train_loader:\n",
    "        new_optimizer.zero_grad()\n",
    "        outputs = PCA_model(batch_X)\n",
    "        loss = new_criterion(outputs, batch_y)\n",
    "        loss.backward()\n",
    "        new_optimizer.step()\n",
    "        new_train_loss += loss.item()\n",
    "\n",
    "    # Validation phase\n",
    "    PCA_model.eval()\n",
    "    new_val_loss = 0\n",
    "    correct = 0\n",
    "    total = 0\n",
    "    with torch.no_grad():\n",
    "        for batch_X, batch_y in new_val_loader:\n",
    "            outputs = PCA_model(batch_X)\n",
    "            loss = new_criterion(outputs, batch_y)\n",
    "            new_val_loss += loss.item()\n",
    "            _, predicted = torch.max(outputs, 1)\n",
    "            total += batch_y.size(0)\n",
    "            correct += (predicted == batch_y).sum().item()\n",
    "\n",
    "    # Log losses\n",
    "    new_train_losses.append(new_train_loss / len(new_train_loader))\n",
    "    new_val_losses.append(new_val_loss / len(new_val_loader))\n",
    "\n",
    "    scheduler.step()  # Step the scheduler\n",
    "\n",
    "    # Print epoch results\n",
    "    print(f\"Epoch {epoch+1}/{num_epochs}\")\n",
    "    print(f\"Train Loss: {new_train_losses[-1]:.4f}\")\n",
    "    print(f\"Validation Loss: {new_val_losses[-1]:.4f}\")\n",
    "    print(f\"Validation Accuracy: {100 * correct / total:.2f}%\")\n",
    "\n",
    "# Testing phase\n",
    "PCA_model.eval()\n",
    "new_test_loss = 0\n",
    "correct = 0\n",
    "total = 0\n",
    "with torch.no_grad():\n",
    "    for batch_X, batch_y in new_test_loader:\n",
    "        outputs = PCA_model(batch_X)\n",
    "        loss = new_criterion(outputs, batch_y)\n",
    "        new_test_loss += loss.item()\n",
    "        _, predicted = torch.max(outputs, 1)\n",
    "        total += batch_y.size(0)\n",
    "        correct += (predicted == batch_y).sum().item()\n",
    "\n",
    "print()\n",
    "print(f\"Test Loss: {new_test_loss / len(new_test_loader):.4f}\")\n",
    "print(f\"Test Accuracy: {100 * correct / total:.2f}%\")"
   ]
  },
  {
   "cell_type": "code",
   "execution_count": 7,
   "metadata": {},
   "outputs": [
    {
     "data": {
      "image/png": "[encoded data removed]",
      "text/plain": [
       "<Figure size 1000x600 with 1 Axes>"
      ]
     },
     "metadata": {},
     "output_type": "display_data"
    },
    {
     "data": {
      "application/vnd.plotly.v1+json": {
       "config": {
        "plotlyServerURL": "https://plot.ly"
       },
       "data": [
        {
         "mode": "lines+markers",
         "name": "Training Loss",
         "type": "scatter",
         "x": [
          1,
          2,
          3,
          4,
          5,
          6,
          7,
          8,
          9,
          10,
          11,
          12,
          13,
          14,
          15,
          16,
          17,
          18,
          19,
          20,
          21,
          22,
          23,
          24,
          25,
          26,
          27,
          28,
          29,
          30
         ],
         "y": [
          0.7596588304409614,
          0.5761526774137448,
          0.5486800654576375,
          0.5343304169483674,
          0.5274333486190209,
          0.5126997833068554,
          0.5090152844404563,
          0.5018342362000392,
          0.49113440880408654,
          0.4952641242589706,
          0.4860634762507219,
          0.48967056442529727,
          0.4797211048694757,
          0.4786144198515476,
          0.4762543556781916,
          0.4744369110999963,
          0.47899909775990707,
          0.47384219865004223,
          0.47377177476882937,
          0.4731353299740033,
          0.46695346847558633,
          0.46884630658687687,
          0.46494519274968366,
          0.46745185737426465,
          0.45961845501875265,
          0.4658963330281086,
          0.4578698556392621,
          0.46057727795380815,
          0.4538120564741966,
          0.46121050081191917
         ]
        },
        {
         "mode": "lines+markers",
         "name": "Validation Loss",
         "type": "scatter",
         "x": [
          1,
          2,
          3,
          4,
          5,
          6,
          7,
          8,
          9,
          10,
          11,
          12,
          13,
          14,
          15,
          16,
          17,
          18,
          19,
          20,
          21,
          22,
          23,
          24,
          25,
          26,
          27,
          28,
          29,
          30
         ],
         "y": [
          0.5588585960865021,
          0.531019070148468,
          0.5255533266067505,
          0.5114217281341553,
          0.5063904011249543,
          0.5078923082351685,
          0.5026119840145111,
          0.49764516949653625,
          0.4873023891448975,
          0.4896819770336151,
          0.47574341416358945,
          0.4759827983379364,
          0.4679460370540619,
          0.468422657251358,
          0.48083909273147585,
          0.4729257023334503,
          0.4645317590236664,
          0.4671331763267517,
          0.4610549533367157,
          0.46632936835289,
          0.4748830044269562,
          0.46073129653930667,
          0.45984784722328187,
          0.46602643370628355,
          0.46468502283096313,
          0.45979167938232424,
          0.4672023344039917,
          0.4538973355293274,
          0.4512099814414978,
          0.45223561286926267
         ]
        }
       ],
       "layout": {
        "hovermode": "x unified",
        "showlegend": true,
        "template": {
         "data": {
          "bar": [
           {
            "error_x": {
             "color": "#2a3f5f"
            },
            "error_y": {
             "color": "#2a3f5f"
            },
            "marker": {
             "line": {
              "color": "#E5ECF6",
              "width": 0.5
             },
             "pattern": {
              "fillmode": "overlay",
              "size": 10,
              "solidity": 0.2
             }
            },
            "type": "bar"
           }
          ],
          "barpolar": [
           {
            "marker": {
             "line": {
              "color": "#E5ECF6",
              "width": 0.5
             },
             "pattern": {
              "fillmode": "overlay",
              "size": 10,
              "solidity": 0.2
             }
            },
            "type": "barpolar"
           }
          ],
          "carpet": [
           {
            "aaxis": {
             "endlinecolor": "#2a3f5f",
             "gridcolor": "white",
             "linecolor": "white",
             "minorgridcolor": "white",
             "startlinecolor": "#2a3f5f"
            },
            "baxis": {
             "endlinecolor": "#2a3f5f",
             "gridcolor": "white",
             "linecolor": "white",
             "minorgridcolor": "white",
             "startlinecolor": "#2a3f5f"
            },
            "type": "carpet"
           }
          ],
          "choropleth": [
           {
            "colorbar": {
             "outlinewidth": 0,
             "ticks": ""
            },
            "type": "choropleth"
           }
          ],
          "contour": [
           {
            "colorbar": {
             "outlinewidth": 0,
             "ticks": ""
            },
            "colorscale": [
             [
              0,
              "#0d0887"
             ],
             [
              0.1111111111111111,
              "#46039f"
             ],
             [
              0.2222222222222222,
              "#7201a8"
             ],
             [
              0.3333333333333333,
              "#9c179e"
             ],
             [
              0.4444444444444444,
              "#bd3786"
             ],
             [
              0.5555555555555556,
              "#d8576b"
             ],
             [
              0.6666666666666666,
              "#ed7953"
             ],
             [
              0.7777777777777778,
              "#fb9f3a"
             ],
             [
              0.8888888888888888,
              "#fdca26"
             ],
             [
              1,
              "#f0f921"
             ]
            ],
            "type": "contour"
           }
          ],
          "contourcarpet": [
           {
            "colorbar": {
             "outlinewidth": 0,
             "ticks": ""
            },
            "type": "contourcarpet"
           }
          ],
          "heatmap": [
           {
            "colorbar": {
             "outlinewidth": 0,
             "ticks": ""
            },
            "colorscale": [
             [
              0,
              "#0d0887"
             ],
             [
              0.1111111111111111,
              "#46039f"
             ],
             [
              0.2222222222222222,
              "#7201a8"
             ],
             [
              0.3333333333333333,
              "#9c179e"
             ],
             [
              0.4444444444444444,
              "#bd3786"
             ],
             [
              0.5555555555555556,
              "#d8576b"
             ],
             [
              0.6666666666666666,
              "#ed7953"
             ],
             [
              0.7777777777777778,
              "#fb9f3a"
             ],
             [
              0.8888888888888888,
              "#fdca26"
             ],
             [
              1,
              "#f0f921"
             ]
            ],
            "type": "heatmap"
           }
          ],
          "histogram": [
           {
            "marker": {
             "pattern": {
              "fillmode": "overlay",
              "size": 10,
              "solidity": 0.2
             }
            },
            "type": "histogram"
           }
          ],
          "histogram2d": [
           {
            "colorbar": {
             "outlinewidth": 0,
             "ticks": ""
            },
            "colorscale": [
             [
              0,
              "#0d0887"
             ],
             [
              0.1111111111111111,
              "#46039f"
             ],
             [
              0.2222222222222222,
              "#7201a8"
             ],
             [
              0.3333333333333333,
              "#9c179e"
             ],
             [
              0.4444444444444444,
              "#bd3786"
             ],
             [
              0.5555555555555556,
              "#d8576b"
             ],
             [
              0.6666666666666666,
              "#ed7953"
             ],
             [
              0.7777777777777778,
              "#fb9f3a"
             ],
             [
              0.8888888888888888,
              "#fdca26"
             ],
             [
              1,
              "#f0f921"
             ]
            ],
            "type": "histogram2d"
           }
          ],
          "histogram2dcontour": [
           {
            "colorbar": {
             "outlinewidth": 0,
             "ticks": ""
            },
            "colorscale": [
             [
              0,
              "#0d0887"
             ],
             [
              0.1111111111111111,
              "#46039f"
             ],
             [
              0.2222222222222222,
              "#7201a8"
             ],
             [
              0.3333333333333333,
              "#9c179e"
             ],
             [
              0.4444444444444444,
              "#bd3786"
             ],
             [
              0.5555555555555556,
              "#d8576b"
             ],
             [
              0.6666666666666666,
              "#ed7953"
             ],
             [
              0.7777777777777778,
              "#fb9f3a"
             ],
             [
              0.8888888888888888,
              "#fdca26"
             ],
             [
              1,
              "#f0f921"
             ]
            ],
            "type": "histogram2dcontour"
           }
          ],
          "mesh3d": [
           {
            "colorbar": {
             "outlinewidth": 0,
             "ticks": ""
            },
            "type": "mesh3d"
           }
          ],
          "parcoords": [
           {
            "line": {
             "colorbar": {
              "outlinewidth": 0,
              "ticks": ""
             }
            },
            "type": "parcoords"
           }
          ],
          "pie": [
           {
            "automargin": true,
            "type": "pie"
           }
          ],
          "scatter": [
           {
            "fillpattern": {
             "fillmode": "overlay",
             "size": 10,
             "solidity": 0.2
            },
            "type": "scatter"
           }
          ],
          "scatter3d": [
           {
            "line": {
             "colorbar": {
              "outlinewidth": 0,
              "ticks": ""
             }
            },
            "marker": {
             "colorbar": {
              "outlinewidth": 0,
              "ticks": ""
             }
            },
            "type": "scatter3d"
           }
          ],
          "scattercarpet": [
           {
            "marker": {
             "colorbar": {
              "outlinewidth": 0,
              "ticks": ""
             }
            },
            "type": "scattercarpet"
           }
          ],
          "scattergeo": [
           {
            "marker": {
             "colorbar": {
              "outlinewidth": 0,
              "ticks": ""
             }
            },
            "type": "scattergeo"
           }
          ],
          "scattergl": [
           {
            "marker": {
             "colorbar": {
              "outlinewidth": 0,
              "ticks": ""
             }
            },
            "type": "scattergl"
           }
          ],
          "scattermap": [
           {
            "marker": {
             "colorbar": {
              "outlinewidth": 0,
              "ticks": ""
             }
            },
            "type": "scattermap"
           }
          ],
          "scattermapbox": [
           {
            "marker": {
             "colorbar": {
              "outlinewidth": 0,
              "ticks": ""
             }
            },
            "type": "scattermapbox"
           }
          ],
          "scatterpolar": [
           {
            "marker": {
             "colorbar": {
              "outlinewidth": 0,
              "ticks": ""
             }
            },
            "type": "scatterpolar"
           }
          ],
          "scatterpolargl": [
           {
            "marker": {
             "colorbar": {
              "outlinewidth": 0,
              "ticks": ""
             }
            },
            "type": "scatterpolargl"
           }
          ],
          "scatterternary": [
           {
            "marker": {
             "colorbar": {
              "outlinewidth": 0,
              "ticks": ""
             }
            },
            "type": "scatterternary"
           }
          ],
          "surface": [
           {
            "colorbar": {
             "outlinewidth": 0,
             "ticks": ""
            },
            "colorscale": [
             [
              0,
              "#0d0887"
             ],
             [
              0.1111111111111111,
              "#46039f"
             ],
             [
              0.2222222222222222,
              "#7201a8"
             ],
             [
              0.3333333333333333,
              "#9c179e"
             ],
             [
              0.4444444444444444,
              "#bd3786"
             ],
             [
              0.5555555555555556,
              "#d8576b"
             ],
             [
              0.6666666666666666,
              "#ed7953"
             ],
             [
              0.7777777777777778,
              "#fb9f3a"
             ],
             [
              0.8888888888888888,
              "#fdca26"
             ],
             [
              1,
              "#f0f921"
             ]
            ],
            "type": "surface"
           }
          ],
          "table": [
           {
            "cells": {
             "fill": {
              "color": "#EBF0F8"
             },
             "line": {
              "color": "white"
             }
            },
            "header": {
             "fill": {
              "color": "#C8D4E3"
             },
             "line": {
              "color": "white"
             }
            },
            "type": "table"
           }
          ]
         },
         "layout": {
          "annotationdefaults": {
           "arrowcolor": "#2a3f5f",
           "arrowhead": 0,
           "arrowwidth": 1
          },
          "autotypenumbers": "strict",
          "coloraxis": {
           "colorbar": {
            "outlinewidth": 0,
            "ticks": ""
           }
          },
          "colorscale": {
           "diverging": [
            [
             0,
             "#8e0152"
            ],
            [
             0.1,
             "#c51b7d"
            ],
            [
             0.2,
             "#de77ae"
            ],
            [
             0.3,
             "#f1b6da"
            ],
            [
             0.4,
             "#fde0ef"
            ],
            [
             0.5,
             "#f7f7f7"
            ],
            [
             0.6,
             "#e6f5d0"
            ],
            [
             0.7,
             "#b8e186"
            ],
            [
             0.8,
             "#7fbc41"
            ],
            [
             0.9,
             "#4d9221"
            ],
            [
             1,
             "#276419"
            ]
           ],
           "sequential": [
            [
             0,
             "#0d0887"
            ],
            [
             0.1111111111111111,
             "#46039f"
            ],
            [
             0.2222222222222222,
             "#7201a8"
            ],
            [
             0.3333333333333333,
             "#9c179e"
            ],
            [
             0.4444444444444444,
             "#bd3786"
            ],
            [
             0.5555555555555556,
             "#d8576b"
            ],
            [
             0.6666666666666666,
             "#ed7953"
            ],
            [
             0.7777777777777778,
             "#fb9f3a"
            ],
            [
             0.8888888888888888,
             "#fdca26"
            ],
            [
             1,
             "#f0f921"
            ]
           ],
           "sequentialminus": [
            [
             0,
             "#0d0887"
            ],
            [
             0.1111111111111111,
             "#46039f"
            ],
            [
             0.2222222222222222,
             "#7201a8"
            ],
            [
             0.3333333333333333,
             "#9c179e"
            ],
            [
             0.4444444444444444,
             "#bd3786"
            ],
            [
             0.5555555555555556,
             "#d8576b"
            ],
            [
             0.6666666666666666,
             "#ed7953"
            ],
            [
             0.7777777777777778,
             "#fb9f3a"
            ],
            [
             0.8888888888888888,
             "#fdca26"
            ],
            [
             1,
             "#f0f921"
            ]
           ]
          },
          "colorway": [
           "#636efa",
           "#EF553B",
           "#00cc96",
           "#ab63fa",
           "#FFA15A",
           "#19d3f3",
           "#FF6692",
           "#B6E880",
           "#FF97FF",
           "#FECB52"
          ],
          "font": {
           "color": "#2a3f5f"
          },
          "geo": {
           "bgcolor": "white",
           "lakecolor": "white",
           "landcolor": "#E5ECF6",
           "showlakes": true,
           "showland": true,
           "subunitcolor": "white"
          },
          "hoverlabel": {
           "align": "left"
          },
          "hovermode": "closest",
          "mapbox": {
           "style": "light"
          },
          "paper_bgcolor": "white",
          "plot_bgcolor": "#E5ECF6",
          "polar": {
           "angularaxis": {
            "gridcolor": "white",
            "linecolor": "white",
            "ticks": ""
           },
           "bgcolor": "#E5ECF6",
           "radialaxis": {
            "gridcolor": "white",
            "linecolor": "white",
            "ticks": ""
           }
          },
          "scene": {
           "xaxis": {
            "backgroundcolor": "#E5ECF6",
            "gridcolor": "white",
            "gridwidth": 2,
            "linecolor": "white",
            "showbackground": true,
            "ticks": "",
            "zerolinecolor": "white"
           },
           "yaxis": {
            "backgroundcolor": "#E5ECF6",
            "gridcolor": "white",
            "gridwidth": 2,
            "linecolor": "white",
            "showbackground": true,
            "ticks": "",
            "zerolinecolor": "white"
           },
           "zaxis": {
            "backgroundcolor": "#E5ECF6",
            "gridcolor": "white",
            "gridwidth": 2,
            "linecolor": "white",
            "showbackground": true,
            "ticks": "",
            "zerolinecolor": "white"
           }
          },
          "shapedefaults": {
           "line": {
            "color": "#2a3f5f"
           }
          },
          "ternary": {
           "aaxis": {
            "gridcolor": "white",
            "linecolor": "white",
            "ticks": ""
           },
           "baxis": {
            "gridcolor": "white",
            "linecolor": "white",
            "ticks": ""
           },
           "bgcolor": "#E5ECF6",
           "caxis": {
            "gridcolor": "white",
            "linecolor": "white",
            "ticks": ""
           }
          },
          "title": {
           "x": 0.05
          },
          "xaxis": {
           "automargin": true,
           "gridcolor": "white",
           "linecolor": "white",
           "ticks": "",
           "title": {
            "standoff": 15
           },
           "zerolinecolor": "white",
           "zerolinewidth": 2
          },
          "yaxis": {
           "automargin": true,
           "gridcolor": "white",
           "linecolor": "white",
           "ticks": "",
           "title": {
            "standoff": 15
           },
           "zerolinecolor": "white",
           "zerolinewidth": 2
          }
         }
        },
        "title": {
         "text": "Training and Validation Loss (Interactive)"
        },
        "xaxis": {
         "title": {
          "text": "Epoch"
         }
        },
        "yaxis": {
         "title": {
          "text": "Loss"
         }
        }
       }
      }
     },
     "metadata": {},
     "output_type": "display_data"
    }
   ],
   "source": [
    "import matplotlib.pyplot as plt\n",
    "\n",
    "# Plot training and validation losses\n",
    "plt.figure(figsize=(10, 6))\n",
    "plt.plot(range(1, num_epochs + 1), new_train_losses, label='Training Loss')\n",
    "plt.plot(range(1, num_epochs + 1), new_val_losses, label='Validation Loss')\n",
    "plt.xlabel('Epoch')\n",
    "plt.ylabel('Loss')\n",
    "plt.title('Training and Validation Loss')\n",
    "plt.legend()\n",
    "plt.grid()\n",
    "plt.show()\n",
    "\n",
    "# Interactive plot using Plotly\n",
    "import plotly.graph_objects as go\n",
    "\n",
    "fig = go.Figure()\n",
    "\n",
    "fig.add_trace(go.Scatter(\n",
    "    x=list(range(1, num_epochs + 1)),\n",
    "    y=new_train_losses,\n",
    "    name='Training Loss',\n",
    "    mode='lines+markers'\n",
    "))\n",
    "\n",
    "fig.add_trace(go.Scatter(\n",
    "    x=list(range(1, num_epochs + 1)),\n",
    "    y=new_val_losses,\n",
    "    name='Validation Loss',\n",
    "    mode='lines+markers'\n",
    "))\n",
    "\n",
    "fig.update_layout(\n",
    "    title='Training and Validation Loss (Interactive)',\n",
    "    xaxis_title='Epoch',\n",
    "    yaxis_title='Loss',\n",
    "    showlegend=True,\n",
    "    hovermode='x unified'\n",
    ")\n",
    "\n",
    "fig.show()"
   ]
  },
  {
   "cell_type": "code",
   "execution_count": 8,
   "metadata": {},
   "outputs": [
    {
     "name": "stdout",
     "output_type": "stream",
     "text": [
      "Evaluation for PCA_model:\n",
      "              precision    recall  f1-score   support\n",
      "\n",
      "     Class 0       0.90      0.94      0.92       392\n",
      "     Class 1       0.57      0.12      0.20       142\n",
      "     Class 2       0.66      0.92      0.77       245\n",
      "\n",
      "    accuracy                           0.78       779\n",
      "   macro avg       0.71      0.66      0.63       779\n",
      "weighted avg       0.77      0.78      0.74       779\n",
      "\n",
      "\n",
      "Evaluation for model:\n",
      "              precision    recall  f1-score   support\n",
      "\n",
      "     Class 0       0.50      1.00      0.67       392\n",
      "     Class 1       0.00      0.00      0.00       142\n",
      "     Class 2       0.00      0.00      0.00       245\n",
      "\n",
      "    accuracy                           0.50       779\n",
      "   macro avg       0.17      0.33      0.22       779\n",
      "weighted avg       0.25      0.50      0.34       779\n",
      "\n"
     ]
    },
    {
     "name": "stderr",
     "output_type": "stream",
     "text": [
      "/Users/kevinhan/opt/anaconda3/envs/babyRL/lib/python3.8/site-packages/sklearn/metrics/_classification.py:1471: UndefinedMetricWarning:\n",
      "\n",
      "Precision and F-score are ill-defined and being set to 0.0 in labels with no predicted samples. Use `zero_division` parameter to control this behavior.\n",
      "\n",
      "/Users/kevinhan/opt/anaconda3/envs/babyRL/lib/python3.8/site-packages/sklearn/metrics/_classification.py:1471: UndefinedMetricWarning:\n",
      "\n",
      "Precision and F-score are ill-defined and being set to 0.0 in labels with no predicted samples. Use `zero_division` parameter to control this behavior.\n",
      "\n",
      "/Users/kevinhan/opt/anaconda3/envs/babyRL/lib/python3.8/site-packages/sklearn/metrics/_classification.py:1471: UndefinedMetricWarning:\n",
      "\n",
      "Precision and F-score are ill-defined and being set to 0.0 in labels with no predicted samples. Use `zero_division` parameter to control this behavior.\n",
      "\n"
     ]
    }
   ],
   "source": [
    "from sklearn.metrics import classification_report\n",
    "\n",
    "# Function to evaluate a model\n",
    "def evaluate_model(model, data_loader, y_true_tensor):\n",
    "    model.eval()\n",
    "    y_pred = []\n",
    "    with torch.no_grad():\n",
    "        for batch_X, _ in data_loader:\n",
    "            outputs = model(batch_X)\n",
    "            _, predicted = torch.max(outputs, 1)\n",
    "            y_pred.extend(predicted.cpu().numpy())\n",
    "    y_true = y_true_tensor.cpu().numpy()\n",
    "    return classification_report(y_true, y_pred, target_names=['Class 0', 'Class 1', 'Class 2'])\n",
    "\n",
    "# Evaluate PCA_model\n",
    "print(\"Evaluation for PCA_model:\")\n",
    "print(evaluate_model(PCA_model, new_test_loader, y_new_test_tensor))\n",
    "\n",
    "# Evaluate model\n",
    "print(\"\\nEvaluation for model:\")\n",
    "print(evaluate_model(model, test_loader, y_test_tensor))"
   ]
  }
 ],
 "metadata": {
  "kernelspec": {
   "display_name": "babyRL",
   "language": "python",
   "name": "python3"
  },
  "language_info": {
   "codemirror_mode": {
    "name": "ipython",
    "version": 3
   },
   "file_extension": ".py",
   "mimetype": "text/x-python",
   "name": "python",
   "nbconvert_exporter": "python",
   "pygments_lexer": "ipython3",
   "version": "3.8.20"
  }
 },
 "nbformat": 4,
 "nbformat_minor": 2
}
